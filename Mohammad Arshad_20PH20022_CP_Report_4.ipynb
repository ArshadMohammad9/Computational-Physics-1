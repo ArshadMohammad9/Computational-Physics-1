{
 "cells": [
  {
   "cell_type": "code",
   "execution_count": 1,
   "id": "9d688dcc",
   "metadata": {},
   "outputs": [],
   "source": [
    "import numpy as np\n",
    "import matplotlib.pyplot as plt"
   ]
  },
  {
   "cell_type": "markdown",
   "id": "2d66dc30",
   "metadata": {},
   "source": [
    "# Using Gauss Seidal method to find the solution with minimum error e=0.001"
   ]
  },
  {
   "cell_type": "code",
   "execution_count": 2,
   "id": "b43f37b8",
   "metadata": {},
   "outputs": [
    {
     "name": "stdout",
     "output_type": "stream",
     "text": [
      "[12, 16, 17, 19, 16]\n",
      "\n",
      "\n",
      "The matrix is not strictly diagonal dominant at row 1\n",
      "The matrix is not strictly diagonal dominant at row 2\n",
      "The matrix is not strictly diagonal dominant at row 3\n",
      "The matrix is not strictly diagonal dominant at row 4\n",
      "\n",
      "\n",
      "The matrix is not strictly diagonal dominant\n"
     ]
    }
   ],
   "source": [
    "#Checking whether it is diagonally dominant or not?\n",
    "\n",
    "A=[[-6, 2, 1, 2, 1], [3, 8, -4, 1, 0], [-1, 1, 4, 10, 1], [3, -4, 1, 9, 2], [2, 0, 1, 3, 10]]\n",
    "sum_list=[]\n",
    "sum=0\n",
    "for i in range(len(A)):\n",
    "    for j in range(len(A[i])):\n",
    "        sum = sum + np.abs(A[i][j])\n",
    "    sum_list.append(sum)\n",
    "    sum=0\n",
    "print(sum_list)\n",
    "print(\"\\n\")\n",
    "j=0\n",
    "for i in range(len(A)):\n",
    "    if(np.abs(A[i][i]) > (sum_list[i] - np.abs(A[i][i]))):\n",
    "        j=j+1\n",
    "        \n",
    "    else:\n",
    "        print(\"The matrix is not strictly diagonal dominant at row\", i+1)\n",
    "        \n",
    "if(j!= len(A)):\n",
    "    print(\"\\n\")\n",
    "    print(\"The matrix is not strictly diagonal dominant\")\n",
    "\n",
    "else:(print(\"Yes Stricly diagonal dominant\"))"
   ]
  },
  {
   "cell_type": "code",
   "execution_count": 3,
   "id": "7bb48cb8",
   "metadata": {},
   "outputs": [],
   "source": [
    "def f1(x,y,z,w,v):\n",
    "    result= 3-2*y-z-2*w-v\n",
    "    return(result/-6)\n",
    "\n",
    "def f2(x,y,z,w,v):\n",
    "    result= 4 - 3*x +4*z -1*w\n",
    "    return(result/8)\n",
    "\n",
    "def f3(x,y,z,w,v):\n",
    "    result= -2 +x -y -10*w -v\n",
    "    return(result/4)\n",
    "\n",
    "def f4(x,y,z,w,v):\n",
    "    result= 12 -3*x +4*y -z -2*v\n",
    "    return(result/9)\n",
    "\n",
    "def f5(x,y,z,w,v):\n",
    "    result= 1-2*x -z -3*w\n",
    "    return(result/10)"
   ]
  },
  {
   "cell_type": "code",
   "execution_count": 4,
   "id": "dbee22ce",
   "metadata": {},
   "outputs": [
    {
     "name": "stdout",
     "output_type": "stream",
     "text": [
      "Iteration = 1\n",
      "x,y,z,w,v\n",
      "-0.5 0.6875 -0.796875 1.8940972222222223 -0.2885416666666667\n",
      "\n",
      "\n",
      "Iteration = 2\n",
      "x,y,z,w,v\n",
      "0.17962962962962967 -0.20256076388888888 -5.067560040509259 1.810612381044239 0.027646363811728313\n",
      "\n",
      "\n",
      "Iteration = 3\n",
      "x,y,z,w,v\n",
      "-0.8039684070644718 -1.9586184152359827 -4.744780041520652 1.2518798749051865 0.3597077230934036\n",
      "\n",
      "\n",
      "Iteration = 4\n",
      "x,y,z,w,v\n",
      "-1.4664248998481402 -1.478965667680422 -3.7164914260782465 1.4978320009682413 0.3155845222869803\n",
      "\n",
      "\n",
      "Iteration = 5\n",
      "x,y,z,w,v\n",
      "-1.0605290395359377 -1.1477763233341767 -4.301664312042789 1.584553010304437 0.26690633602013536\n",
      "\n",
      "\n",
      "Iteration = 6\n",
      "x,y,z,w,v\n",
      "-1.0268674336803556 -1.4638259946793157 -4.418869469516386 1.4567061244222133 0.3102485963610458\n",
      "\n",
      "\n",
      "Iteration = 7\n",
      "x,y,z,w,v\n",
      "-1.1871434356115909 -1.446344211956623 -4.154527266059537 1.4788981702606363 0.30921196265008105\n",
      "\n",
      "\n",
      "Iteration = 8\n",
      "x,y,z,w,v\n",
      "-1.1300345644669048 -1.3383629426372587 -4.222466321771523 1.5156327021470046 0.2935637344264319\n",
      "\n",
      "\n",
      "Iteration = 9\n",
      "x,y,z,w,v\n",
      "-1.0957271780542668 -1.389789556883787 -4.288957094266739 1.4922058813379477 0.300379380636143\n",
      "\n",
      "\n",
      "Iteration = 10\n",
      "x,y,z,w,v\n",
      "-1.1306241774537125 -1.407020215755471 -4.236510538928465 1.4888381607772705 0.3031244411504078\n",
      "\n",
      "\n",
      "Iteration = 11\n",
      "x,y,z,w,v\n",
      "-1.1282917012890763 -1.3812506515779879 -4.234636774658551 1.4986955988792234 0.2995133380599033\n",
      "\n",
      "\n",
      "Iteration = 12\n",
      "x,y,z,w,v\n",
      "-1.1167055903326961 -1.3858907408144172 -4.254321044092604 1.4957609084125798 0.3000449499520257\n",
      "\n",
      "\n"
     ]
    }
   ],
   "source": [
    "x_0=0\n",
    "y_0=0\n",
    "z_0=0\n",
    "w_0=0\n",
    "v_0=0\n",
    "\n",
    "e=0.001\n",
    "condition= True\n",
    "\n",
    "n=1\n",
    "\n",
    "while condition :\n",
    "    x_1=f1(x_0,y_0,z_0,w_0,v_0)\n",
    "    y_1=f2(x_1,y_0,z_0,w_0,v_0)\n",
    "    z_1=f3(x_1,y_1,z_0,w_0,v_0)\n",
    "    w_1=f4(x_1,y_1,z_1,w_0,v_0)\n",
    "    v_1=f5(x_1,y_1,z_1,w_1,v_0)\n",
    "    \n",
    "    e1=abs(x_1 - x_0)\n",
    "    e2=abs(y_1 - y_0)\n",
    "    e3=abs(z_1 - z_0)\n",
    "    e4=abs(w_1 - w_0)\n",
    "    e5=abs(v_1 - v_0)\n",
    "    \n",
    "    \n",
    "    x_0=x_1\n",
    "    y_0=y_1\n",
    "    z_0=z_1\n",
    "    w_0=w_1\n",
    "    v_0=v_1\n",
    "    n=n+1\n",
    "    print(\"Iteration =\", n-1)\n",
    "    print(\"x,y,z,w,v\")\n",
    "    print(x_1, y_1, z_1, w_1, v_1 )\n",
    "    print(\"\\n\")\n",
    "    condition= e1>e and e2>e and e3>e and e4>e and e5>e  \n",
    "    \n"
   ]
  },
  {
   "cell_type": "markdown",
   "id": "5343ad19",
   "metadata": {},
   "source": [
    "# 2) Given the 3 points (x,y) = (1,8), (2.1, 20.6), (5.0, 13.7)\n",
    "Write a code to find the y for x in range (1,5) using Interpolation"
   ]
  },
  {
   "cell_type": "code",
   "execution_count": 45,
   "id": "a9787f0a",
   "metadata": {},
   "outputs": [],
   "source": [
    "def value(x,y,slope):\n",
    "    return(y+x*slope)\n",
    "            \n",
    "def der(x, y, z, w):\n",
    "    delta_y = w-y\n",
    "    delta_x = z-x\n",
    "    return(delta_y/delta_x)\n",
    "\n",
    "def interpolate(x):\n",
    "    if(x<2.1):\n",
    "        slope=der(1, 8, 2.1, 20.6)\n",
    "        print(\"The y value is \", value(x-1, 8, slope))\n",
    "    \n",
    "    if(x>2.1):\n",
    "        slope=der(2.1, 20.6, 5.0, 13.7)\n",
    "        print(\"The value is \", value(x-2.1, 20.6, slope))\n",
    "    \n",
    "    if(x==1):\n",
    "        print(\"The value is \", 8)\n",
    "    if(x==2.1):\n",
    "        print(\"The value is\", 20.6)\n",
    "    if(x==5):\n",
    "        print(\"The value is\", 13.7)\n",
    "    "
   ]
  },
  {
   "cell_type": "code",
   "execution_count": 46,
   "id": "5a89f92d",
   "metadata": {},
   "outputs": [
    {
     "name": "stdout",
     "output_type": "stream",
     "text": [
      "The value is  18.458620689655174\n"
     ]
    }
   ],
   "source": [
    "interpolate(3)"
   ]
  },
  {
   "cell_type": "code",
   "execution_count": 49,
   "id": "3553d695",
   "metadata": {},
   "outputs": [
    {
     "name": "stdout",
     "output_type": "stream",
     "text": [
      "The y value is  19.454545454545453\n"
     ]
    }
   ],
   "source": [
    "interpolate(2)"
   ]
  },
  {
   "cell_type": "raw",
   "id": "48f55469",
   "metadata": {},
   "source": [
    "\n",
    "Write a code for the data points attached for the points.txt file given "
   ]
  },
  {
   "cell_type": "code",
   "execution_count": 8,
   "id": "3adf462c",
   "metadata": {},
   "outputs": [],
   "source": [
    "file = open(\"points.txt\", 'r')\n",
    "f=file.readlines()"
   ]
  },
  {
   "cell_type": "code",
   "execution_count": 9,
   "id": "625f09a2",
   "metadata": {},
   "outputs": [
    {
     "name": "stdout",
     "output_type": "stream",
     "text": [
      "['1.0\\t1.45\\n', '1.1\\t1.50\\n', '1.2\\t1.55\\n', '1.3\\t1.60\\n', '1.4\\t1.65\\n', '1.5\\t1.71\\n', '1.6\\t1.76\\n', '1.7\\t1.82\\n', '1.8\\t1.88\\n', '1.9\\t1.94\\n', '2.0\\t2.00\\n', '2.1\\t2.06\\n', '2.2\\t2.12\\n', '2.3\\t2.18\\n', '2.4\\t2.24\\n', '2.5\\t2.31\\n', '2.6\\t2.37\\n', '2.7\\t2.44\\n', '2.8\\t2.51\\n', '2.9\\t2.58\\n', '3.0\\t2.65\\n', '3.1\\t2.72\\n', '3.2\\t2.79\\n', '3.3\\t2.86\\n', '3.4\\t2.93\\n', '3.5\\t3.01\\n', '3.6\\t3.08\\n', '3.7\\t3.16\\n', '3.8\\t3.24\\n', '3.9\\t3.32\\n', '4.0\\t3.40\\n', '4.1\\t3.48\\n', '4.2\\t3.56\\n', '4.3\\t3.64\\n', '4.4\\t3.72\\n', '4.5\\t3.81\\n', '4.6\\t3.89\\n', '4.7\\t3.98\\n', '4.8\\t4.07\\n', '4.9\\t4.16\\n', '5.0\\t4.25']\n"
     ]
    }
   ],
   "source": [
    "print(f)"
   ]
  },
  {
   "cell_type": "code",
   "execution_count": 10,
   "id": "64096ea7",
   "metadata": {},
   "outputs": [
    {
     "name": "stdout",
     "output_type": "stream",
     "text": [
      "1.0\t1.45\n",
      "\n",
      "1.0\n",
      "1.45\n",
      "\n"
     ]
    }
   ],
   "source": [
    "print(f[0])\n",
    "print(f[0][:3])\n",
    "print(f[0][4:])"
   ]
  },
  {
   "cell_type": "code",
   "execution_count": 11,
   "id": "e6933eeb",
   "metadata": {},
   "outputs": [
    {
     "name": "stdout",
     "output_type": "stream",
     "text": [
      "41\n"
     ]
    }
   ],
   "source": [
    "print(len(f))"
   ]
  },
  {
   "cell_type": "code",
   "execution_count": 12,
   "id": "0ba38eea",
   "metadata": {},
   "outputs": [],
   "source": [
    "xstring=[]\n",
    "for i in f:\n",
    "    xstring.append(i[:3])"
   ]
  },
  {
   "cell_type": "code",
   "execution_count": 13,
   "id": "c5f5f56f",
   "metadata": {},
   "outputs": [
    {
     "name": "stdout",
     "output_type": "stream",
     "text": [
      "['1.0', '1.1', '1.2', '1.3', '1.4', '1.5', '1.6', '1.7', '1.8', '1.9', '2.0', '2.1', '2.2', '2.3', '2.4', '2.5', '2.6', '2.7', '2.8', '2.9', '3.0', '3.1', '3.2', '3.3', '3.4', '3.5', '3.6', '3.7', '3.8', '3.9', '4.0', '4.1', '4.2', '4.3', '4.4', '4.5', '4.6', '4.7', '4.8', '4.9', '5.0']\n"
     ]
    }
   ],
   "source": [
    "print(xstring)"
   ]
  },
  {
   "cell_type": "code",
   "execution_count": 14,
   "id": "b398b338",
   "metadata": {},
   "outputs": [],
   "source": [
    "ystring=[]\n",
    "for i in f:\n",
    "    ystring.append(i[4:7])"
   ]
  },
  {
   "cell_type": "code",
   "execution_count": 15,
   "id": "3995e575",
   "metadata": {},
   "outputs": [
    {
     "name": "stdout",
     "output_type": "stream",
     "text": [
      "['1.4', '1.5', '1.5', '1.6', '1.6', '1.7', '1.7', '1.8', '1.8', '1.9', '2.0', '2.0', '2.1', '2.1', '2.2', '2.3', '2.3', '2.4', '2.5', '2.5', '2.6', '2.7', '2.7', '2.8', '2.9', '3.0', '3.0', '3.1', '3.2', '3.3', '3.4', '3.4', '3.5', '3.6', '3.7', '3.8', '3.8', '3.9', '4.0', '4.1', '4.2']\n"
     ]
    }
   ],
   "source": [
    "print(ystring)"
   ]
  },
  {
   "cell_type": "code",
   "execution_count": 16,
   "id": "7e3af4b4",
   "metadata": {},
   "outputs": [
    {
     "data": {
      "text/plain": [
       "2.9"
      ]
     },
     "execution_count": 16,
     "metadata": {},
     "output_type": "execute_result"
    }
   ],
   "source": [
    "float(ystring[0])+float(ystring[1])"
   ]
  },
  {
   "cell_type": "code",
   "execution_count": 17,
   "id": "eb08a2a3",
   "metadata": {},
   "outputs": [],
   "source": [
    "data=[[] for i in range(40)]\n",
    "a=len(xstring)\n",
    "\n",
    "for i in range (40):\n",
    "    data[i].append(float(xstring[i]))\n",
    "    data[i].append(float(ystring[i]))"
   ]
  },
  {
   "cell_type": "code",
   "execution_count": 18,
   "id": "5dca1039",
   "metadata": {},
   "outputs": [
    {
     "name": "stdout",
     "output_type": "stream",
     "text": [
      "[[1.0, 1.4], [1.1, 1.5], [1.2, 1.5], [1.3, 1.6], [1.4, 1.6], [1.5, 1.7], [1.6, 1.7], [1.7, 1.8], [1.8, 1.8], [1.9, 1.9], [2.0, 2.0], [2.1, 2.0], [2.2, 2.1], [2.3, 2.1], [2.4, 2.2], [2.5, 2.3], [2.6, 2.3], [2.7, 2.4], [2.8, 2.5], [2.9, 2.5], [3.0, 2.6], [3.1, 2.7], [3.2, 2.7], [3.3, 2.8], [3.4, 2.9], [3.5, 3.0], [3.6, 3.0], [3.7, 3.1], [3.8, 3.2], [3.9, 3.3], [4.0, 3.4], [4.1, 3.4], [4.2, 3.5], [4.3, 3.6], [4.4, 3.7], [4.5, 3.8], [4.6, 3.8], [4.7, 3.9], [4.8, 4.0], [4.9, 4.1]]\n"
     ]
    }
   ],
   "source": [
    "print(data)"
   ]
  },
  {
   "cell_type": "code",
   "execution_count": 41,
   "id": "a6c833ab",
   "metadata": {},
   "outputs": [],
   "source": [
    "def interpolation(x):\n",
    "    for i in range(39):\n",
    "        if ((data[i][0]<x and data[i+1][0]>x)):\n",
    "            y = data[i][1] + (x - data[i][0]) * ((data[i+1][1] - data[i][1])/(data[i+1][0] - data[i][0]))\n",
    "        if(data[i][0]==x):\n",
    "            y = data[i][1]\n",
    "            \n",
    "    return(y)"
   ]
  },
  {
   "cell_type": "code",
   "execution_count": 42,
   "id": "d28fe154",
   "metadata": {},
   "outputs": [
    {
     "name": "stdout",
     "output_type": "stream",
     "text": [
      "2.1\n"
     ]
    }
   ],
   "source": [
    "y=interpolation(2.25)\n",
    "print(y)"
   ]
  },
  {
   "cell_type": "code",
   "execution_count": 44,
   "id": "3e98cb02",
   "metadata": {},
   "outputs": [
    {
     "name": "stdout",
     "output_type": "stream",
     "text": [
      "2.0\n"
     ]
    }
   ],
   "source": [
    "y=interpolation(2)\n",
    "print(y)"
   ]
  },
  {
   "cell_type": "code",
   "execution_count": null,
   "id": "f14b1ffb",
   "metadata": {},
   "outputs": [],
   "source": []
  }
 ],
 "metadata": {
  "kernelspec": {
   "display_name": "Python 3 (ipykernel)",
   "language": "python",
   "name": "python3"
  },
  "language_info": {
   "codemirror_mode": {
    "name": "ipython",
    "version": 3
   },
   "file_extension": ".py",
   "mimetype": "text/x-python",
   "name": "python",
   "nbconvert_exporter": "python",
   "pygments_lexer": "ipython3",
   "version": "3.10.4"
  }
 },
 "nbformat": 4,
 "nbformat_minor": 5
}
