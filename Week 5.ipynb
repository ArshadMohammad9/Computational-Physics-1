{
 "cells": [
  {
   "cell_type": "code",
   "execution_count": 1,
   "id": "c69e8d32",
   "metadata": {},
   "outputs": [],
   "source": [
    "import numpy as np\n",
    "import matplotlib.pyplot as plt\n",
    "import math as m"
   ]
  },
  {
   "cell_type": "markdown",
   "id": "542000b2",
   "metadata": {},
   "source": [
    "Numerical Integration 1: plot the graph for given data and find the area using a suitable method."
   ]
  },
  {
   "cell_type": "code",
   "execution_count": 2,
   "id": "79e8c155",
   "metadata": {},
   "outputs": [
    {
     "data": {
      "text/plain": [
       "[<matplotlib.lines.Line2D at 0x7f907faec220>]"
      ]
     },
     "execution_count": 2,
     "metadata": {},
     "output_type": "execute_result"
    },
    {
     "data": {
      "image/png": "[encoded data removed]",
      "text/plain": [
       "<Figure size 432x288 with 1 Axes>"
      ]
     },
     "metadata": {
      "needs_background": "light"
     },
     "output_type": "display_data"
    }
   ],
   "source": [
    "x=[1.34, 1.46, 1.52, 1.6, 1.87, 2.03, 2.18, 2.8, 3.2, 3.8, 4.14]\n",
    "f=[1.5, 2.3, 2.3, 2.4, 2.5, 3.2, 4.9, 4.7, 3.4, 7.8, 17.1]\n",
    "plt.plot(x, f)"
   ]
  },
  {
   "cell_type": "code",
   "execution_count": 3,
   "id": "a673d1d7",
   "metadata": {},
   "outputs": [],
   "source": [
    "#Using Trapizoidal rule\n",
    "def area(x1, x2, f1, f2):\n",
    "    A=0.5 * (x2 - x1)* (np.abs(f2+f1))  # Area finding\n",
    "    return(A)"
   ]
  },
  {
   "cell_type": "code",
   "execution_count": 4,
   "id": "6d9efa5f",
   "metadata": {},
   "outputs": [
    {
     "name": "stdout",
     "output_type": "stream",
     "text": [
      "14.467999999999996  is the integration value\n"
     ]
    }
   ],
   "source": [
    "y=len(x)\n",
    "Area=[]\n",
    "for i in range (y-1):\n",
    "    A=area(x[i], x[i+1], f[i], f[i+1])\n",
    "    Area.append(A)\n",
    "#print(Area)\n",
    "integral =0.0\n",
    "for i in Area:\n",
    "    integral=integral + i\n",
    "print(integral, \" is the integration value\")\n",
    "    "
   ]
  },
  {
   "cell_type": "markdown",
   "id": "b589cbff",
   "metadata": {},
   "source": [
    "Write a function in python trap (f, a, b, N) which\n",
    "will evaluate the integral ∫ f(x)dx \n",
    "using the trapezoidal rule with N steps.\n",
    "Also develop a similar function simp (f, a, b, N) for the Simpson’s rule. Use\n",
    "these functions to evaluate the numerical integrals in the subsequent problems,\n",
    "wherever applicable."
   ]
  },
  {
   "cell_type": "code",
   "execution_count": 5,
   "id": "2874d53f",
   "metadata": {},
   "outputs": [],
   "source": [
    "def function1(x):\n",
    "    y=x**2\n",
    "    return(y)\n",
    "\n",
    "def function2(x):\n",
    "    return(np.sin(x))\n",
    "\n",
    "def function3(x):\n",
    "    y=np.sin(x)/x\n",
    "    return(y**2)\n",
    "\n",
    "def trap(function,a, b, N):\n",
    "    x=np.linspace(a, b, N)\n",
    "    A=[]\n",
    "    y = function(x)\n",
    "    a=len(x) \n",
    "    \n",
    "    for i in range(a-1):\n",
    "        A.append(area(x[i], x[i+1], y[i], y[i+1]))\n",
    "        \n",
    "    integral=0\n",
    "    \n",
    "    for i in A:\n",
    "        integral=integral + i\n",
    "        \n",
    "    return(integral)\n",
    "\n",
    "def simp(function, a, b, N):\n",
    "    x=np.linspace(a, b, N)\n",
    "    A=[]\n",
    "    y = function(x)\n",
    "    a=len(x)\n",
    "    \n",
    "    for i in range(a-1):\n",
    "        y=(x[i+1]-x[i]) * (function(x[i])+4*function((x[i]+x[i+1])/2)+function(x[i+1]))\n",
    "        A.append(y/6)\n",
    "    \n",
    "    integral=0\n",
    "    \n",
    "    for i in A:\n",
    "        integral=integral + i\n",
    "        \n",
    "    return(integral)\n",
    "        \n",
    "    \n",
    "    "
   ]
  },
  {
   "cell_type": "code",
   "execution_count": 6,
   "id": "f0b71ec0",
   "metadata": {},
   "outputs": [
    {
     "data": {
      "text/plain": [
       "0.6666679407195909"
      ]
     },
     "execution_count": 6,
     "metadata": {},
     "output_type": "execute_result"
    }
   ],
   "source": [
    "trap(function1,-1,1,2**10)"
   ]
  },
  {
   "cell_type": "code",
   "execution_count": 7,
   "id": "9539981a",
   "metadata": {},
   "outputs": [
    {
     "data": {
      "text/plain": [
       "0.6666666666666675"
      ]
     },
     "execution_count": 7,
     "metadata": {},
     "output_type": "execute_result"
    }
   ],
   "source": [
    "simp(function1,-1, 1, 2**10)"
   ]
  },
  {
   "cell_type": "code",
   "execution_count": 8,
   "id": "34f3808a",
   "metadata": {},
   "outputs": [
    {
     "data": {
      "text/plain": [
       "1.9999984281999592"
      ]
     },
     "execution_count": 8,
     "metadata": {},
     "output_type": "execute_result"
    }
   ],
   "source": [
    "trap(function2, 0, m.pi, 2**10 )"
   ]
  },
  {
   "cell_type": "code",
   "execution_count": 9,
   "id": "8c3baa39",
   "metadata": {},
   "outputs": [
    {
     "data": {
      "text/plain": [
       "2.0000000000000613"
      ]
     },
     "execution_count": 9,
     "metadata": {},
     "output_type": "execute_result"
    }
   ],
   "source": [
    "simp(function2, 0, m.pi, 2**10)"
   ]
  },
  {
   "cell_type": "code",
   "execution_count": 10,
   "id": "0a6a93db",
   "metadata": {},
   "outputs": [
    {
     "data": {
      "text/plain": [
       "[<matplotlib.lines.Line2D at 0x7f90779cb460>]"
      ]
     },
     "execution_count": 10,
     "metadata": {},
     "output_type": "execute_result"
    },
    {
     "data": {
      "image/png": "[encoded data removed]",
      "text/plain": [
       "<Figure size 432x288 with 1 Axes>"
      ]
     },
     "metadata": {
      "needs_background": "light"
     },
     "output_type": "display_data"
    }
   ],
   "source": [
    "x=np.linspace(0.00001,200,10000)\n",
    "y=np.sin(x)\n",
    "plt.plot(x, (y/x))"
   ]
  },
  {
   "cell_type": "code",
   "execution_count": 11,
   "id": "2be98595",
   "metadata": {},
   "outputs": [
    {
     "data": {
      "text/plain": [
       "[<matplotlib.lines.Line2D at 0x7f9077a83190>]"
      ]
     },
     "execution_count": 11,
     "metadata": {},
     "output_type": "execute_result"
    },
    {
     "data": {
      "image/png": "[encoded data removed]",
      "text/plain": [
       "<Figure size 432x288 with 1 Axes>"
      ]
     },
     "metadata": {
      "needs_background": "light"
     },
     "output_type": "display_data"
    }
   ],
   "source": [
    "x=np.linspace(0.00001, 100, 100)\n",
    "y=np.sin(x)\n",
    "plt.plot(x, y/x)\n",
    "plt.plot(x, (y/x)**2)"
   ]
  },
  {
   "cell_type": "code",
   "execution_count": 12,
   "id": "3c873f15",
   "metadata": {},
   "outputs": [
    {
     "data": {
      "text/plain": [
       "1.5658182076234524"
      ]
     },
     "execution_count": 12,
     "metadata": {},
     "output_type": "execute_result"
    }
   ],
   "source": [
    "trap(function3, 0.0000000001, 100, 2**10)"
   ]
  },
  {
   "cell_type": "code",
   "execution_count": 13,
   "id": "2638ba8e",
   "metadata": {},
   "outputs": [
    {
     "data": {
      "text/plain": [
       "1.5658182776254017"
      ]
     },
     "execution_count": 13,
     "metadata": {},
     "output_type": "execute_result"
    }
   ],
   "source": [
    "simp(function3, 0.0000000001, 100, 2**10)"
   ]
  },
  {
   "cell_type": "markdown",
   "id": "bb021432",
   "metadata": {},
   "source": [
    "Show plot of log e(N) with varying log N for all\n",
    "the integrals."
   ]
  },
  {
   "cell_type": "code",
   "execution_count": 14,
   "id": "5d1584f5",
   "metadata": {},
   "outputs": [],
   "source": [
    "def error_trep(a, b, function, val):\n",
    "    errors=[]\n",
    "    x=[]\n",
    "    for i in range (1,10):\n",
    "        errors.append(np.abs(val - trap(function, a, b, 2**i))/val)\n",
    "        x.append(i)\n",
    "    plt.plot(x,errors)\n",
    "    plt.xscale('log')\n",
    "\n",
    "def error_simp(a,b,function,val):\n",
    "    errors=[]\n",
    "    x=[]\n",
    "    for i in range (1,10):\n",
    "        errors.append(np.abs(val - simp(function, a, b, 2**i))/val)\n",
    "        x.append(i)\n",
    "    plt.plot(x,errors)\n",
    "    plt.xscale('log')\n"
   ]
  },
  {
   "cell_type": "markdown",
   "id": "423a72ae",
   "metadata": {},
   "source": [
    "Function 1: x^2"
   ]
  },
  {
   "cell_type": "code",
   "execution_count": 15,
   "id": "3967d570",
   "metadata": {},
   "outputs": [
    {
     "data": {
      "image/png": "[encoded data removed]",
      "text/plain": [
       "<Figure size 432x288 with 1 Axes>"
      ]
     },
     "metadata": {
      "needs_background": "light"
     },
     "output_type": "display_data"
    }
   ],
   "source": [
    "error_trep(-1, 1, function1, 2/3)\n",
    "error_simp(-1, 1, function1, 2/3)"
   ]
  },
  {
   "cell_type": "code",
   "execution_count": 16,
   "id": "7983df4d",
   "metadata": {},
   "outputs": [
    {
     "data": {
      "image/png": "[encoded data removed]",
      "text/plain": [
       "<Figure size 432x288 with 1 Axes>"
      ]
     },
     "metadata": {
      "needs_background": "light"
     },
     "output_type": "display_data"
    }
   ],
   "source": [
    "error_trep( 0, m.pi, function2, 2)\n",
    "error_simp(0, m.pi, function2, 2)"
   ]
  },
  {
   "cell_type": "code",
   "execution_count": 17,
   "id": "fa995980",
   "metadata": {},
   "outputs": [
    {
     "data": {
      "image/png": "[encoded data removed]",
      "text/plain": [
       "<Figure size 432x288 with 1 Axes>"
      ]
     },
     "metadata": {
      "needs_background": "light"
     },
     "output_type": "display_data"
    }
   ],
   "source": [
    "error_trep(0.0000000001, 100, function3, 1.57)\n",
    "error_simp(0.0000000001, 100, function3, 1.57)"
   ]
  },
  {
   "cell_type": "markdown",
   "id": "8ce0eff3",
   "metadata": {},
   "source": [
    "Numerically calculate the time period of oscillation by integrating the\n",
    "equation with Trapezoidal method and check this against the expected value.\n",
    "\n",
    "Note that the integrand will diverge at the limits. So the limits has to be\n",
    "redefined i.e. b(1-e) in place of b. Numerically obtained values of T will also\n",
    "diverge for very low values of e. Make a log-log plot of e vs. T. Then choose a\n",
    "suitable value of e that will provide a reasonably accurate value of T. Verify that\n",
    "T does not depend on the amplitude of oscillation."
   ]
  },
  {
   "cell_type": "code",
   "execution_count": 18,
   "id": "31a467cc",
   "metadata": {},
   "outputs": [],
   "source": [
    "def Timeperiod_1(a,b,e,N,E): \n",
    "    def fun1(x):\n",
    "        y=2*((m.pi)**2 )*(x**2)\n",
    "        z=y/E\n",
    "        w=1/(1-z)\n",
    "        return(w**(1/2))\n",
    "    \n",
    "    area=trap(fun1, a+e, b-e, N)\n",
    "    con=(2/E)**(1/2)\n",
    "    return (con*area)\n",
    "\n",
    "def fun2(x):\n",
    "        y=m.exp(x**2/25) - 1\n",
    "        z=y*(25*2*(m.pi)**2)\n",
    "        return(z)\n",
    "\n",
    "def Timeperiod_2(a,b,e,N,E):\n",
    "    def fun2(x):\n",
    "        y=m.exp(x**2/25) - 1\n",
    "        z=y*(25*2*(m.pi)**2)\n",
    "        return(z)\n",
    "    integral=[]\n",
    "    x=np.linspace(a, b, N)\n",
    "    A=[]\n",
    "    for i in x:\n",
    "        A.append(fun2(i))\n",
    "    a=len(x)\n",
    "    for i in range(a-1):\n",
    "        integral.append(area(x[i], x[i+1], A[i], A[i+1]))\n",
    "        \n",
    "    j=0\n",
    "    for i in integral:\n",
    "        j=j + i\n",
    "        \n",
    "    con=(2/E)**(1/2)\n",
    "    return (con*j)"
   ]
  },
  {
   "cell_type": "code",
   "execution_count": 19,
   "id": "e23b4051",
   "metadata": {},
   "outputs": [
    {
     "data": {
      "text/plain": [
       "0.9936339879121445"
      ]
     },
     "execution_count": 19,
     "metadata": {},
     "output_type": "execute_result"
    }
   ],
   "source": [
    "Timeperiod_1(-2, 2, 0.0001, 10**6, 8*(m.pi)**2 )"
   ]
  },
  {
   "cell_type": "code",
   "execution_count": 20,
   "id": "f70df188",
   "metadata": {},
   "outputs": [
    {
     "data": {
      "text/plain": [
       "0.995499008979651"
      ]
     },
     "execution_count": 20,
     "metadata": {},
     "output_type": "execute_result"
    }
   ],
   "source": [
    "Timeperiod_1(-4, 4, 0.0001, 10**6, 32*(m.pi)**2)"
   ]
  },
  {
   "cell_type": "code",
   "execution_count": 21,
   "id": "d29325d9",
   "metadata": {},
   "outputs": [
    {
     "data": {
      "text/plain": [
       "0.9968185927401884"
      ]
     },
     "execution_count": 21,
     "metadata": {},
     "output_type": "execute_result"
    }
   ],
   "source": [
    "Timeperiod_1(-8, 8, 0.0001, 10**6, 128*(m.pi)**2)"
   ]
  },
  {
   "cell_type": "code",
   "execution_count": 22,
   "id": "6e52fb7d",
   "metadata": {},
   "outputs": [
    {
     "data": {
      "text/plain": [
       "[1.0010628874683594,\n",
       " 0.9995161458274536,\n",
       " 0.9979934776313907,\n",
       " 0.9936339879121445,\n",
       " 0.9798674829466673,\n",
       " 0.9363114672632058]"
      ]
     },
     "execution_count": 22,
     "metadata": {},
     "output_type": "execute_result"
    }
   ],
   "source": [
    "epsilon=[0.0000001,0.000001,0.00001,0.0001,0.001,0.01]\n",
    "x=[]\n",
    "for i in epsilon:\n",
    "    x.append(Timeperiod_1(-2,2,i,10**6, 8*(m.pi)**2))\n",
    "x  \n"
   ]
  },
  {
   "cell_type": "code",
   "execution_count": 23,
   "id": "cc6ede0f",
   "metadata": {},
   "outputs": [
    {
     "data": {
      "text/plain": [
       "[<matplotlib.lines.Line2D at 0x7f90777763e0>]"
      ]
     },
     "execution_count": 23,
     "metadata": {},
     "output_type": "execute_result"
    },
    {
     "data": {
      "image/png": "[encoded data removed]",
      "text/plain": [
       "<Figure size 432x288 with 1 Axes>"
      ]
     },
     "metadata": {
      "needs_background": "light"
     },
     "output_type": "display_data"
    }
   ],
   "source": [
    "plt.plot(epsilon,x, marker ='o')"
   ]
  },
  {
   "cell_type": "code",
   "execution_count": 24,
   "id": "a2e5a97e",
   "metadata": {},
   "outputs": [
    {
     "data": {
      "image/png": "[encoded data removed]",
      "text/plain": [
       "<Figure size 432x288 with 1 Axes>"
      ]
     },
     "metadata": {
      "needs_background": "light"
     },
     "output_type": "display_data"
    }
   ],
   "source": [
    "plt.plot(epsilon,x, marker ='o')\n",
    "plt.xscale('log')\n",
    "plt.yscale('log')"
   ]
  },
  {
   "cell_type": "code",
   "execution_count": 25,
   "id": "b37e1bf2",
   "metadata": {},
   "outputs": [
    {
     "data": {
      "text/plain": [
       "[<matplotlib.lines.Line2D at 0x7f90775149a0>]"
      ]
     },
     "execution_count": 25,
     "metadata": {},
     "output_type": "execute_result"
    },
    {
     "data": {
      "image/png": "[encoded data removed]",
      "text/plain": [
       "<Figure size 432x288 with 1 Axes>"
      ]
     },
     "metadata": {
      "needs_background": "light"
     },
     "output_type": "display_data"
    }
   ],
   "source": [
    "#plotting V(x)\n",
    "x=np.linspace(-10,10,100)\n",
    "A=[]\n",
    "for i in x:\n",
    "    A.append(fun2(i))\n",
    "\n",
    "plt.plot(x,A)"
   ]
  },
  {
   "cell_type": "code",
   "execution_count": 26,
   "id": "312d30a4",
   "metadata": {},
   "outputs": [
    {
     "data": {
      "text/plain": [
       "2270.2134607049657"
      ]
     },
     "execution_count": 26,
     "metadata": {},
     "output_type": "execute_result"
    }
   ],
   "source": [
    "Timeperiod_2(-10, 10, 0.0001, 10**6, 200*(m.pi)**2)"
   ]
  },
  {
   "cell_type": "code",
   "execution_count": 27,
   "id": "a65efbbe",
   "metadata": {},
   "outputs": [
    {
     "data": {
      "text/plain": [
       "[<matplotlib.lines.Line2D at 0x7f90754acbe0>]"
      ]
     },
     "execution_count": 27,
     "metadata": {},
     "output_type": "execute_result"
    },
    {
     "data": {
      "image/png": "[encoded data removed]",
      "text/plain": [
       "<Figure size 432x288 with 1 Axes>"
      ]
     },
     "metadata": {
      "needs_background": "light"
     },
     "output_type": "display_data"
    }
   ],
   "source": [
    "x=np.linspace(-0.5,0.5,100)\n",
    "A=[]\n",
    "for i in x:\n",
    "    A.append(fun2(i))\n",
    "\n",
    "plt.plot(x,A)   "
   ]
  },
  {
   "cell_type": "code",
   "execution_count": 28,
   "id": "8fa46d85",
   "metadata": {},
   "outputs": [
    {
     "data": {
      "text/plain": [
       "1.0504320208919213"
      ]
     },
     "execution_count": 28,
     "metadata": {},
     "output_type": "execute_result"
    }
   ],
   "source": [
    "Timeperiod_2(-0.5,0.5,0.001, 10**6, 4.934 )\n"
   ]
  },
  {
   "cell_type": "code",
   "execution_count": 29,
   "id": "1c2c57c8",
   "metadata": {},
   "outputs": [
    {
     "data": {
      "text/plain": [
       "0.9677714296205921"
      ]
     },
     "execution_count": 29,
     "metadata": {},
     "output_type": "execute_result"
    }
   ],
   "source": [
    "Timeperiod_2(-0.48, 0.48, 0.0001, 10**6,((0.48*(m.pi))**2)*2)"
   ]
  },
  {
   "cell_type": "code",
   "execution_count": 30,
   "id": "8bfad3bb",
   "metadata": {},
   "outputs": [
    {
     "data": {
      "text/plain": [
       "0.8886031651944529"
      ]
     },
     "execution_count": 30,
     "metadata": {},
     "output_type": "execute_result"
    }
   ],
   "source": [
    "Timeperiod_2(-0.46, 0.46, 0.0001, 10**6,((0.46*(m.pi))**2)*2)"
   ]
  },
  {
   "cell_type": "code",
   "execution_count": 31,
   "id": "ac8c975f",
   "metadata": {},
   "outputs": [
    {
     "data": {
      "text/plain": [
       "0.8502951968495627"
      ]
     },
     "execution_count": 31,
     "metadata": {},
     "output_type": "execute_result"
    }
   ],
   "source": [
    "Timeperiod_2(-0.45, 0.45, 0.0001, 10**6,((0.45*(m.pi))**2)*2)"
   ]
  },
  {
   "cell_type": "code",
   "execution_count": 32,
   "id": "229382ff",
   "metadata": {},
   "outputs": [
    {
     "data": {
      "text/plain": [
       "[<matplotlib.lines.Line2D at 0x7f90754fdf30>]"
      ]
     },
     "execution_count": 32,
     "metadata": {},
     "output_type": "execute_result"
    },
    {
     "data": {
      "image/png": "[encoded data removed]",
      "text/plain": [
       "<Figure size 432x288 with 1 Axes>"
      ]
     },
     "metadata": {
      "needs_background": "light"
     },
     "output_type": "display_data"
    }
   ],
   "source": [
    "x=np.linspace(0.45, 0.5, 15)\n",
    "A=[]\n",
    "for i in x:\n",
    "    A.append(Timeperiod_2(-i, i, 0.0001, 10**6,((i*(m.pi))**2)*2))\n",
    "    \n",
    "plt.plot(x,A)"
   ]
  },
  {
   "cell_type": "code",
   "execution_count": 33,
   "id": "dc4a25c5",
   "metadata": {},
   "outputs": [
    {
     "data": {
      "text/plain": [
       "[<matplotlib.lines.Line2D at 0x7f907557a3e0>]"
      ]
     },
     "execution_count": 33,
     "metadata": {},
     "output_type": "execute_result"
    },
    {
     "data": {
      "image/png": "[encoded data removed]",
      "text/plain": [
       "<Figure size 432x288 with 1 Axes>"
      ]
     },
     "metadata": {
      "needs_background": "light"
     },
     "output_type": "display_data"
    }
   ],
   "source": [
    "x=np.linspace(0.1, 0.5, 20)\n",
    "A=[]\n",
    "for i in x:\n",
    "    A.append(Timeperiod_2(-i, i, 0.0001, 10**6,(((m.pi * i))**2)*2))\n",
    "    \n",
    "plt.plot(x,A)"
   ]
  },
  {
   "cell_type": "code",
   "execution_count": 34,
   "id": "685b36e8",
   "metadata": {},
   "outputs": [
    {
     "data": {
      "text/plain": [
       "[<matplotlib.lines.Line2D at 0x7f90756f2e60>]"
      ]
     },
     "execution_count": 34,
     "metadata": {},
     "output_type": "execute_result"
    },
    {
     "data": {
      "image/png": "[encoded data removed]",
      "text/plain": [
       "<Figure size 432x288 with 1 Axes>"
      ]
     },
     "metadata": {
      "needs_background": "light"
     },
     "output_type": "display_data"
    }
   ],
   "source": [
    "x=np.linspace(1, 10, 50)\n",
    "A=[]\n",
    "for i in x:\n",
    "    A.append(Timeperiod_2(-i, i, 0.0001, 10**6,(((m.pi * i))**2)*2))\n",
    "    \n",
    "plt.plot(x,A)"
   ]
  },
  {
   "cell_type": "code",
   "execution_count": null,
   "id": "057d6240",
   "metadata": {},
   "outputs": [],
   "source": []
  }
 ],
 "metadata": {
  "kernelspec": {
   "display_name": "Python 3 (ipykernel)",
   "language": "python",
   "name": "python3"
  },
  "language_info": {
   "codemirror_mode": {
    "name": "ipython",
    "version": 3
   },
   "file_extension": ".py",
   "mimetype": "text/x-python",
   "name": "python",
   "nbconvert_exporter": "python",
   "pygments_lexer": "ipython3",
   "version": "3.10.6"
  }
 },
 "nbformat": 4,
 "nbformat_minor": 5
}
