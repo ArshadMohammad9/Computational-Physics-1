{
 "cells": [
  {
   "cell_type": "code",
   "execution_count": 1,
   "id": "e8c457f6",
   "metadata": {},
   "outputs": [],
   "source": [
    "import numpy as np\n",
    "import matplotlib.pyplot as plt"
   ]
  },
  {
   "cell_type": "code",
   "execution_count": 2,
   "id": "9ef7f001",
   "metadata": {},
   "outputs": [],
   "source": [
    "def der(x):\n",
    "    y= 3*(x**2)-(2*0.165)*x \n",
    "    return(y)\n",
    "\n",
    "def fun(x):\n",
    "    z= x**3 - 0.165*x**2 + 3.993*0.0001\n",
    "    return(z)"
   ]
  },
  {
   "cell_type": "code",
   "execution_count": 3,
   "id": "f3a9dfd4",
   "metadata": {},
   "outputs": [],
   "source": [
    "def newton(x_0, e):\n",
    "    condition=True\n",
    "    count=1\n",
    "    j=1\n",
    "    while condition:\n",
    "        if(der(x_0)==0):\n",
    "            print(\"The function has maxima at \", x_0)\n",
    "            condition=False\n",
    "            j=0\n",
    "        else:\n",
    "            k=fun(x_0)/der(x_0)\n",
    "            x_1=x_0 - k\n",
    "            x_0=x_1\n",
    "            condition= np.abs(k)>e\n",
    "        count=count+1\n",
    "    if(j!=0):     \n",
    "        print(\"Iterations\", count, \"and the root is \", x_0)\n",
    "        \n",
    "    return(count)\n",
    "\n",
    "            "
   ]
  },
  {
   "cell_type": "code",
   "execution_count": 4,
   "id": "0150c90f",
   "metadata": {},
   "outputs": [
    {
     "name": "stdout",
     "output_type": "stream",
     "text": [
      "Iterations 3 and the root is  0.062377576543465846\n"
     ]
    },
    {
     "data": {
      "text/plain": [
       "3"
      ]
     },
     "execution_count": 4,
     "metadata": {},
     "output_type": "execute_result"
    }
   ],
   "source": [
    "newton(0.05,0.0001)"
   ]
  },
  {
   "cell_type": "code",
   "execution_count": 5,
   "id": "ccc76cc4",
   "metadata": {},
   "outputs": [
    {
     "name": "stdout",
     "output_type": "stream",
     "text": [
      "The function has maxima at  0.11\n"
     ]
    },
    {
     "data": {
      "text/plain": [
       "2"
      ]
     },
     "execution_count": 5,
     "metadata": {},
     "output_type": "execute_result"
    }
   ],
   "source": [
    "newton(0.11,0.0001)"
   ]
  },
  {
   "cell_type": "code",
   "execution_count": 6,
   "id": "45250b3e",
   "metadata": {},
   "outputs": [
    {
     "name": "stdout",
     "output_type": "stream",
     "text": [
      "The function has maxima at  0\n"
     ]
    },
    {
     "data": {
      "text/plain": [
       "2"
      ]
     },
     "execution_count": 6,
     "metadata": {},
     "output_type": "execute_result"
    }
   ],
   "source": [
    "newton(0,0.0001)"
   ]
  },
  {
   "cell_type": "markdown",
   "id": "2d6f54ec",
   "metadata": {},
   "source": [
    "# Plotting"
   ]
  },
  {
   "cell_type": "code",
   "execution_count": 7,
   "id": "18a8b957",
   "metadata": {},
   "outputs": [
    {
     "data": {
      "text/plain": [
       "[<matplotlib.lines.Line2D at 0x7f1da8a19060>]"
      ]
     },
     "execution_count": 7,
     "metadata": {},
     "output_type": "execute_result"
    },
    {
     "data": {
      "image/png": "[encoded data removed]",
      "text/plain": [
       "<Figure size 432x288 with 1 Axes>"
      ]
     },
     "metadata": {
      "needs_background": "light"
     },
     "output_type": "display_data"
    }
   ],
   "source": [
    "x=np.arange(-9,20)*0.01\n",
    "z=fun(x)\n",
    "m=x*0\n",
    "\n",
    "plt.plot(x,z)\n",
    "plt.plot(x,m)\n",
    "    "
   ]
  },
  {
   "cell_type": "code",
   "execution_count": 8,
   "id": "24b18dad",
   "metadata": {},
   "outputs": [
    {
     "name": "stdout",
     "output_type": "stream",
     "text": [
      "[0.1, 0.01, 0.001, 0.0001, 1e-05, 1e-06, 1e-07, 1e-08, 1e-09, 1e-10, 1e-11, 1e-12, 1e-13, 1e-14, 1e-15, 1e-16, 1e-17, 1e-18, 1e-19, 1e-20]\n",
      "[0]\n"
     ]
    }
   ],
   "source": [
    "e=[]\n",
    "for i in range(20):\n",
    "    x=10**(-i-1)\n",
    "    e.append(x)\n",
    "\n",
    "print(e)\n",
    "\n",
    "h=np.arange(0, 1, 250)\n",
    "print(h)"
   ]
  },
  {
   "cell_type": "code",
   "execution_count": 9,
   "id": "1ad23052",
   "metadata": {},
   "outputs": [
    {
     "name": "stdout",
     "output_type": "stream",
     "text": [
      "Iterations 2 and the root is  0.06242222222222221\n",
      "Iterations 3 and the root is  0.062377576543465846\n",
      "Iterations 3 and the root is  0.062377576543465846\n",
      "Iterations 3 and the root is  0.062377576543465846\n",
      "Iterations 4 and the root is  0.06237758151374945\n",
      "Iterations 4 and the root is  0.06237758151374945\n",
      "Iterations 4 and the root is  0.06237758151374945\n",
      "Iterations 4 and the root is  0.06237758151374945\n",
      "Iterations 5 and the root is  0.06237758151374951\n",
      "Iterations 5 and the root is  0.06237758151374951\n",
      "Iterations 5 and the root is  0.06237758151374951\n",
      "Iterations 5 and the root is  0.06237758151374951\n",
      "Iterations 5 and the root is  0.06237758151374951\n",
      "Iterations 5 and the root is  0.06237758151374951\n",
      "Iterations 5 and the root is  0.06237758151374951\n",
      "Iterations 5 and the root is  0.06237758151374951\n",
      "Iterations 6 and the root is  0.06237758151374951\n",
      "Iterations 6 and the root is  0.06237758151374951\n",
      "Iterations 6 and the root is  0.06237758151374951\n",
      "Iterations 6 and the root is  0.06237758151374951\n",
      "[2, 3, 3, 3, 4, 4, 4, 4, 5, 5, 5, 5, 5, 5, 5, 5, 6, 6, 6, 6]\n"
     ]
    }
   ],
   "source": [
    "flag=[]\n",
    "for i in e:\n",
    "    flag.append(newton(0.05, i))\n",
    "print(flag)"
   ]
  },
  {
   "cell_type": "code",
   "execution_count": 10,
   "id": "fe0f4334",
   "metadata": {},
   "outputs": [
    {
     "data": {
      "text/plain": [
       "[<matplotlib.lines.Line2D at 0x7f1da8b12110>]"
      ]
     },
     "execution_count": 10,
     "metadata": {},
     "output_type": "execute_result"
    },
    {
     "data": {
      "image/png": "[encoded data removed]",
      "text/plain": [
       "<Figure size 432x288 with 1 Axes>"
      ]
     },
     "metadata": {
      "needs_background": "light"
     },
     "output_type": "display_data"
    }
   ],
   "source": [
    "plt.plot(e, flag)"
   ]
  },
  {
   "cell_type": "markdown",
   "id": "18c7544a",
   "metadata": {},
   "source": [
    "# Finding the reciprocal of a number"
   ]
  },
  {
   "cell_type": "code",
   "execution_count": 11,
   "id": "4cd6e7bf",
   "metadata": {},
   "outputs": [],
   "source": [
    "def f(x, a):\n",
    "    y= 1/x - a\n",
    "    return (y)\n",
    "\n",
    "def g(x):\n",
    "    return(-1/x**2)\n",
    "\n",
    "def reciprocal(x_0, a):\n",
    "    error=[]\n",
    "    condition=True\n",
    "    count=0\n",
    "    j=1\n",
    "    while condition:\n",
    "        if(g(x_0)==0):\n",
    "            print(\"The function has maxima at \", x_0)\n",
    "            condition=False\n",
    "            j=0\n",
    "        else:\n",
    "            k=f(x_0,a)/g(x_0)\n",
    "            x_1=x_0 - k\n",
    "            error.append(x_0)\n",
    "            x_0=x_1\n",
    "           \n",
    "        count=count+1\n",
    "        condition=count<50\n",
    "        \n",
    "    if(j!=0):     \n",
    "        print(\"The reciprocal is \", x_0)\n",
    "        \n",
    "    return(error)"
   ]
  },
  {
   "cell_type": "code",
   "execution_count": 12,
   "id": "43db694f",
   "metadata": {},
   "outputs": [
    {
     "name": "stdout",
     "output_type": "stream",
     "text": [
      "The reciprocal is  0.3333333333333333\n"
     ]
    }
   ],
   "source": [
    "A=reciprocal(0.2,3)\n",
    "a=len(A)\n",
    "iteration=np.arange(0,a)"
   ]
  },
  {
   "cell_type": "code",
   "execution_count": 14,
   "id": "09c321d9",
   "metadata": {},
   "outputs": [
    {
     "data": {
      "text/plain": [
       "[<matplotlib.lines.Line2D at 0x7f1da09fe1a0>]"
      ]
     },
     "execution_count": 14,
     "metadata": {},
     "output_type": "execute_result"
    },
    {
     "data": {
      "image/png": "[encoded data removed]",
      "text/plain": [
       "<Figure size 432x288 with 1 Axes>"
      ]
     },
     "metadata": {
      "needs_background": "light"
     },
     "output_type": "display_data"
    }
   ],
   "source": [
    "plt.plot(iteration, A)"
   ]
  },
  {
   "cell_type": "code",
   "execution_count": 29,
   "id": "4324ec9d",
   "metadata": {},
   "outputs": [
    {
     "data": {
      "text/plain": [
       "[<matplotlib.lines.Line2D at 0x7f1da0707940>]"
      ]
     },
     "execution_count": 29,
     "metadata": {},
     "output_type": "execute_result"
    },
    {
     "data": {
      "image/png": "[encoded data removed]",
      "text/plain": [
       "<Figure size 432x288 with 1 Axes>"
      ]
     },
     "metadata": {
      "needs_background": "light"
     },
     "output_type": "display_data"
    }
   ],
   "source": [
    "error=[]\n",
    "for i in A:\n",
    "    x=len(A)\n",
    "    y=A[x-1]-i\n",
    "    error.append(np.abs(y))\n",
    "\n",
    "plt.plot(iteration, error)"
   ]
  },
  {
   "cell_type": "markdown",
   "id": "7be10da9",
   "metadata": {},
   "source": [
    "# Diagonal Domiant Checking"
   ]
  },
  {
   "cell_type": "code",
   "execution_count": 30,
   "id": "3d8f86ff",
   "metadata": {},
   "outputs": [
    {
     "name": "stdout",
     "output_type": "stream",
     "text": [
      "[12, 16, 17, 19, 16]\n",
      "\n",
      "\n",
      "The matrix is not strictly diagonal dominant at row 1\n",
      "The matrix is not strictly diagonal dominant at row 2\n",
      "The matrix is not strictly diagonal dominant at row 3\n",
      "The matrix is not strictly diagonal dominant at row 4\n",
      "\n",
      "\n",
      "The matrix is not strictly diagonal dominant\n"
     ]
    }
   ],
   "source": [
    "A=[[-6, 2, 1, 2, 1], [3, 8, -4, 1, 0], [-1, 1, 4, 10, 1], [3, -4, 1, 9, 2], [2, 0, 1, 3, 10]]\n",
    "sum_list=[]\n",
    "sum=0\n",
    "for i in range(len(A)):\n",
    "    for j in range(len(A[i])):\n",
    "        sum = sum + np.abs(A[i][j])\n",
    "    sum_list.append(sum)\n",
    "    sum=0\n",
    "print(sum_list)\n",
    "print(\"\\n\")\n",
    "j=0\n",
    "for i in range(len(A)):\n",
    "    if(np.abs(A[i][i]) > (sum_list[i] - np.abs(A[i][i]))):\n",
    "        j=j+1\n",
    "        \n",
    "    else:\n",
    "        print(\"The matrix is not strictly diagonal dominant at row\", i+1)\n",
    "        \n",
    "if(j!= len(A)):\n",
    "    print(\"\\n\")\n",
    "    print(\"The matrix is not strictly diagonal dominant\")\n",
    "\n",
    "else:(print(\"Yes Stricly diagonal dominant\"))"
   ]
  },
  {
   "cell_type": "code",
   "execution_count": 31,
   "id": "12b333d0",
   "metadata": {},
   "outputs": [
    {
     "name": "stdout",
     "output_type": "stream",
     "text": [
      "[30, 29, 18, 20]\n",
      "\n",
      "\n",
      "The matrix is not strictly diagonal dominant at row 2\n",
      "The matrix is not strictly diagonal dominant at row 3\n",
      "The matrix is not strictly diagonal dominant at row 4\n",
      "\n",
      "\n",
      "The matrix is not strictly diagonal dominant\n"
     ]
    }
   ],
   "source": [
    "B=[[18, 3, 6, -3], [9, 13, -5, 2], [-3, -2, 4, 9], [6, 0, 11, 3]]\n",
    "sum_list=[]\n",
    "sum=0\n",
    "for i in range(len(B)):\n",
    "    for j in range(len(B[i])):\n",
    "        sum = sum + np.abs(B[i][j])\n",
    "    sum_list.append(sum)\n",
    "    sum=0\n",
    "print(sum_list)\n",
    "print(\"\\n\")\n",
    "j=0\n",
    "for i in range(len(B)):\n",
    "    if(np.abs(B[i][i]) > (sum_list[i] - np.abs(B[i][i]))):\n",
    "        j=j+1\n",
    "        \n",
    "    else:\n",
    "        print(\"The matrix is not strictly diagonal dominant at row\", i+1)\n",
    "        \n",
    "if(j!= len(B)):\n",
    "    print(\"\\n\")\n",
    "    print(\"The matrix is not strictly diagonal dominant\")\n",
    "\n",
    "else:(print(\"Yes Stricly diagonal dominant\"))"
   ]
  },
  {
   "cell_type": "code",
   "execution_count": null,
   "id": "99a35d91",
   "metadata": {},
   "outputs": [],
   "source": []
  },
  {
   "cell_type": "code",
   "execution_count": null,
   "id": "a738c59f",
   "metadata": {},
   "outputs": [],
   "source": []
  }
 ],
 "metadata": {
  "kernelspec": {
   "display_name": "Python 3 (ipykernel)",
   "language": "python",
   "name": "python3"
  },
  "language_info": {
   "codemirror_mode": {
    "name": "ipython",
    "version": 3
   },
   "file_extension": ".py",
   "mimetype": "text/x-python",
   "name": "python",
   "nbconvert_exporter": "python",
   "pygments_lexer": "ipython3",
   "version": "3.10.4"
  }
 },
 "nbformat": 4,
 "nbformat_minor": 5
}
