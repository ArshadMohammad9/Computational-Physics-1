{
 "cells": [
  {
   "cell_type": "code",
   "execution_count": 1,
   "id": "b9e9097e",
   "metadata": {},
   "outputs": [],
   "source": [
    "import numpy as np\n",
    "import sympy as smp\n",
    "import scipy as sp\n",
    "from scipy.integrate import odeint\n",
    "from scipy.integrate import solve_ivp\n",
    "import matplotlib.pyplot as plt\n",
    "from matplotlib import animation\n",
    "from mpl_toolkits.mplot3d import Axes3D\n",
    "from matplotlib.animation import PillowWriter"
   ]
  },
  {
   "cell_type": "code",
   "execution_count": 2,
   "id": "38cf66f4",
   "metadata": {},
   "outputs": [],
   "source": [
    "# Defining all variables\n",
    "m, g, l, a, t, w, b, alpha = smp.symbols('m g l a t w b \\alpha')"
   ]
  },
  {
   "cell_type": "code",
   "execution_count": 3,
   "id": "30c42cbd",
   "metadata": {},
   "outputs": [],
   "source": [
    "# Defining theta1 and theta2\n",
    "the1 , the2 = smp.symbols('\\theta_1 \\theta_2', cls=smp.Function)\n",
    "\n",
    "the1= the1(t)\n",
    "the1_d= smp.diff(the1,t)\n",
    "the1_dd= smp.diff(the1_d,t)\n",
    "\n",
    "the2=the2(t)\n",
    "the2_d= smp.diff(the2,t)\n",
    "the2_dd= smp.diff(the2_d,t)"
   ]
  },
  {
   "cell_type": "code",
   "execution_count": 4,
   "id": "5fb2eeab",
   "metadata": {},
   "outputs": [],
   "source": [
    "# Defining x and y coordinates\n",
    "x_1, x_2, y_1, y_2= smp.symbols('x_1 x_2 y_1 y_2', cls=smp.Function)\n",
    "\n",
    "x_1= x_1(t, the1)\n",
    "y_1= y_1(t, the2)\n",
    "x_2= x_2(t, the1, the2)\n",
    "y_2= y_2(t, the1, the2)"
   ]
  },
  {
   "cell_type": "code",
   "execution_count": 5,
   "id": "a9e3783a",
   "metadata": {},
   "outputs": [],
   "source": [
    "# Specific Functional form of x_1,x_2,y_1,y_2\n",
    "\n",
    "x_1= a*smp.sin(w*t) + l*smp.sin(the1)\n",
    "y_1= -l*smp.cos(the1)\n",
    "x_2= a*smp.sin(w*t) + l*smp.sin(the1)+ l*smp.sin(the2)\n",
    "y_2= -l*smp.cos(the1) - l*smp.cos(the2)"
   ]
  },
  {
   "cell_type": "code",
   "execution_count": 6,
   "id": "c47dd949",
   "metadata": {},
   "outputs": [],
   "source": [
    "# Defining the velocities\n",
    "vx1_f= smp.lambdify((the1,the2,l,w,a,the1_d,the2_d,t), smp.diff(x_1,t))\n",
    "vx2_f= smp.lambdify((the1,the2,l,w,a,the1_d,the2_d,t), smp.diff(x_2,t))\n",
    "vy1_f= smp.lambdify((the1,the2,l,w,a,the1_d,the2_d,t), smp.diff(y_1,t))\n",
    "vy2_f= smp.lambdify((the1,the2,l,w,a,the1_d,the2_d,t), smp.diff(y_2,t))"
   ]
  },
  {
   "cell_type": "code",
   "execution_count": 7,
   "id": "ed01c7e2",
   "metadata": {},
   "outputs": [],
   "source": [
    "# Define kinetic and potential energy and Langrangian of pendulum\n",
    "T= 1/2 * m * (smp.diff(x_1,t)**2 + smp.diff(y_1,t)**2 + smp.diff(x_2,t)**2 + smp.diff(y_2,t)**2)\n",
    "V= m*g*y_1+ m*g*y_2\n",
    "L= T-V"
   ]
  },
  {
   "cell_type": "code",
   "execution_count": 8,
   "id": "c40bd567",
   "metadata": {},
   "outputs": [],
   "source": [
    "# Calculation of dissipative force\n",
    "F = 1/2 * b * (smp.diff(x_1,t)**2 + smp.diff(y_1,t)**2 + smp.diff(x_2,t)**2 + smp.diff(y_2,t)**2)"
   ]
  },
  {
   "cell_type": "code",
   "execution_count": 9,
   "id": "284fa0dd",
   "metadata": {},
   "outputs": [],
   "source": [
    "# Langrangian Equatins\n",
    "LE1= - smp.diff(L, the1) + smp.diff(smp.diff(L,the1_d), t) + smp.diff(F,the1_d)\n",
    "LE1= LE1.simplify()\n",
    "\n",
    "LE2= - smp.diff(L, the2) + smp.diff(smp.diff(L,the2_d), t) + smp.diff(F,the2_d)\n",
    "LE2= LE2.simplify()\n"
   ]
  },
  {
   "cell_type": "code",
   "execution_count": 10,
   "id": "20eafda0",
   "metadata": {},
   "outputs": [],
   "source": [
    "sols= smp.solve([LE1, LE2],(the1_dd, the2_dd), simplify=False, rational= False)"
   ]
  },
  {
   "cell_type": "code",
   "execution_count": 11,
   "id": "a46a8340",
   "metadata": {},
   "outputs": [
    {
     "data": {
      "text/latex": [
       "$\\displaystyle - \\frac{a b w \\cos{\\left(t w \\right)} \\cos{\\left(\\operatorname{heta_{1}}{\\left(t \\right)} - \\operatorname{heta_{2}}{\\left(t \\right)} \\right)} \\cos{\\left(\\operatorname{heta_{2}}{\\left(t \\right)} \\right)}}{l m \\cos^{2}{\\left(\\operatorname{heta_{1}}{\\left(t \\right)} - \\operatorname{heta_{2}}{\\left(t \\right)} \\right)} - 2 l m} + \\frac{2 a b w \\cos{\\left(t w \\right)} \\cos{\\left(\\operatorname{heta_{1}}{\\left(t \\right)} \\right)}}{l m \\cos^{2}{\\left(\\operatorname{heta_{1}}{\\left(t \\right)} - \\operatorname{heta_{2}}{\\left(t \\right)} \\right)} - 2 l m} + \\frac{a m w^{2} \\sin{\\left(t w \\right)} \\cos{\\left(\\operatorname{heta_{1}}{\\left(t \\right)} - \\operatorname{heta_{2}}{\\left(t \\right)} \\right)} \\cos{\\left(\\operatorname{heta_{2}}{\\left(t \\right)} \\right)}}{l m \\cos^{2}{\\left(\\operatorname{heta_{1}}{\\left(t \\right)} - \\operatorname{heta_{2}}{\\left(t \\right)} \\right)} - 2 l m} - \\frac{2 a m w^{2} \\sin{\\left(t w \\right)} \\cos{\\left(\\operatorname{heta_{1}}{\\left(t \\right)} \\right)}}{l m \\cos^{2}{\\left(\\operatorname{heta_{1}}{\\left(t \\right)} - \\operatorname{heta_{2}}{\\left(t \\right)} \\right)} - 2 l m} - \\frac{b l \\cos^{2}{\\left(\\operatorname{heta_{1}}{\\left(t \\right)} - \\operatorname{heta_{2}}{\\left(t \\right)} \\right)} \\frac{d}{d t} \\operatorname{heta_{1}}{\\left(t \\right)}}{l m \\cos^{2}{\\left(\\operatorname{heta_{1}}{\\left(t \\right)} - \\operatorname{heta_{2}}{\\left(t \\right)} \\right)} - 2 l m} + \\frac{2 b l \\frac{d}{d t} \\operatorname{heta_{1}}{\\left(t \\right)}}{l m \\cos^{2}{\\left(\\operatorname{heta_{1}}{\\left(t \\right)} - \\operatorname{heta_{2}}{\\left(t \\right)} \\right)} - 2 l m} + \\frac{2 g m \\sin{\\left(\\operatorname{heta_{1}}{\\left(t \\right)} \\right)}}{l m \\cos^{2}{\\left(\\operatorname{heta_{1}}{\\left(t \\right)} - \\operatorname{heta_{2}}{\\left(t \\right)} \\right)} - 2 l m} - \\frac{g m \\sin{\\left(\\operatorname{heta_{2}}{\\left(t \\right)} \\right)} \\cos{\\left(\\operatorname{heta_{1}}{\\left(t \\right)} - \\operatorname{heta_{2}}{\\left(t \\right)} \\right)}}{l m \\cos^{2}{\\left(\\operatorname{heta_{1}}{\\left(t \\right)} - \\operatorname{heta_{2}}{\\left(t \\right)} \\right)} - 2 l m} + \\frac{l m \\sin{\\left(\\operatorname{heta_{1}}{\\left(t \\right)} - \\operatorname{heta_{2}}{\\left(t \\right)} \\right)} \\cos{\\left(\\operatorname{heta_{1}}{\\left(t \\right)} - \\operatorname{heta_{2}}{\\left(t \\right)} \\right)} \\left(\\frac{d}{d t} \\operatorname{heta_{1}}{\\left(t \\right)}\\right)^{2}}{l m \\cos^{2}{\\left(\\operatorname{heta_{1}}{\\left(t \\right)} - \\operatorname{heta_{2}}{\\left(t \\right)} \\right)} - 2 l m} + \\frac{l m \\sin{\\left(\\operatorname{heta_{1}}{\\left(t \\right)} - \\operatorname{heta_{2}}{\\left(t \\right)} \\right)} \\left(\\frac{d}{d t} \\operatorname{heta_{2}}{\\left(t \\right)}\\right)^{2}}{l m \\cos^{2}{\\left(\\operatorname{heta_{1}}{\\left(t \\right)} - \\operatorname{heta_{2}}{\\left(t \\right)} \\right)} - 2 l m}$"
      ],
      "text/plain": [
       "-a*b*w*cos(t*w)*cos(heta_1(t) - heta_2(t))*cos(heta_2(t))/(l*m*cos(heta_1(t) - heta_2(t))**2 - 2*l*m) + 2*a*b*w*cos(t*w)*cos(heta_1(t))/(l*m*cos(heta_1(t) - heta_2(t))**2 - 2*l*m) + a*m*w**2*sin(t*w)*cos(heta_1(t) - heta_2(t))*cos(heta_2(t))/(l*m*cos(heta_1(t) - heta_2(t))**2 - 2*l*m) - 2*a*m*w**2*sin(t*w)*cos(heta_1(t))/(l*m*cos(heta_1(t) - heta_2(t))**2 - 2*l*m) - b*l*cos(heta_1(t) - heta_2(t))**2*Derivative(heta_1(t), t)/(l*m*cos(heta_1(t) - heta_2(t))**2 - 2*l*m) + 2*b*l*Derivative(heta_1(t), t)/(l*m*cos(heta_1(t) - heta_2(t))**2 - 2*l*m) + 2*g*m*sin(heta_1(t))/(l*m*cos(heta_1(t) - heta_2(t))**2 - 2*l*m) - g*m*sin(heta_2(t))*cos(heta_1(t) - heta_2(t))/(l*m*cos(heta_1(t) - heta_2(t))**2 - 2*l*m) + l*m*sin(heta_1(t) - heta_2(t))*cos(heta_1(t) - heta_2(t))*Derivative(heta_1(t), t)**2/(l*m*cos(heta_1(t) - heta_2(t))**2 - 2*l*m) + l*m*sin(heta_1(t) - heta_2(t))*Derivative(heta_2(t), t)**2/(l*m*cos(heta_1(t) - heta_2(t))**2 - 2*l*m)"
      ]
     },
     "execution_count": 11,
     "metadata": {},
     "output_type": "execute_result"
    }
   ],
   "source": [
    "sols[the1_dd]"
   ]
  },
  {
   "cell_type": "code",
   "execution_count": 12,
   "id": "579ad5f7",
   "metadata": {},
   "outputs": [
    {
     "data": {
      "text/latex": [
       "$\\displaystyle - \\frac{2 a b w \\cos{\\left(t w \\right)} \\cos{\\left(\\operatorname{heta_{1}}{\\left(t \\right)} - \\operatorname{heta_{2}}{\\left(t \\right)} \\right)} \\cos{\\left(\\operatorname{heta_{1}}{\\left(t \\right)} \\right)}}{l m \\cos^{2}{\\left(\\operatorname{heta_{1}}{\\left(t \\right)} - \\operatorname{heta_{2}}{\\left(t \\right)} \\right)} - 2 l m} + \\frac{2 a b w \\cos{\\left(t w \\right)} \\cos{\\left(\\operatorname{heta_{2}}{\\left(t \\right)} \\right)}}{l m \\cos^{2}{\\left(\\operatorname{heta_{1}}{\\left(t \\right)} - \\operatorname{heta_{2}}{\\left(t \\right)} \\right)} - 2 l m} + \\frac{2 a m w^{2} \\sin{\\left(t w \\right)} \\cos{\\left(\\operatorname{heta_{1}}{\\left(t \\right)} - \\operatorname{heta_{2}}{\\left(t \\right)} \\right)} \\cos{\\left(\\operatorname{heta_{1}}{\\left(t \\right)} \\right)}}{l m \\cos^{2}{\\left(\\operatorname{heta_{1}}{\\left(t \\right)} - \\operatorname{heta_{2}}{\\left(t \\right)} \\right)} - 2 l m} - \\frac{2 a m w^{2} \\sin{\\left(t w \\right)} \\cos{\\left(\\operatorname{heta_{2}}{\\left(t \\right)} \\right)}}{l m \\cos^{2}{\\left(\\operatorname{heta_{1}}{\\left(t \\right)} - \\operatorname{heta_{2}}{\\left(t \\right)} \\right)} - 2 l m} - \\frac{b l \\cos^{2}{\\left(\\operatorname{heta_{1}}{\\left(t \\right)} - \\operatorname{heta_{2}}{\\left(t \\right)} \\right)} \\frac{d}{d t} \\operatorname{heta_{2}}{\\left(t \\right)}}{l m \\cos^{2}{\\left(\\operatorname{heta_{1}}{\\left(t \\right)} - \\operatorname{heta_{2}}{\\left(t \\right)} \\right)} - 2 l m} + \\frac{2 b l \\frac{d}{d t} \\operatorname{heta_{2}}{\\left(t \\right)}}{l m \\cos^{2}{\\left(\\operatorname{heta_{1}}{\\left(t \\right)} - \\operatorname{heta_{2}}{\\left(t \\right)} \\right)} - 2 l m} - \\frac{2 g m \\sin{\\left(\\operatorname{heta_{1}}{\\left(t \\right)} \\right)} \\cos{\\left(\\operatorname{heta_{1}}{\\left(t \\right)} - \\operatorname{heta_{2}}{\\left(t \\right)} \\right)}}{l m \\cos^{2}{\\left(\\operatorname{heta_{1}}{\\left(t \\right)} - \\operatorname{heta_{2}}{\\left(t \\right)} \\right)} - 2 l m} + \\frac{2 g m \\sin{\\left(\\operatorname{heta_{2}}{\\left(t \\right)} \\right)}}{l m \\cos^{2}{\\left(\\operatorname{heta_{1}}{\\left(t \\right)} - \\operatorname{heta_{2}}{\\left(t \\right)} \\right)} - 2 l m} - \\frac{l m \\sin{\\left(\\operatorname{heta_{1}}{\\left(t \\right)} - \\operatorname{heta_{2}}{\\left(t \\right)} \\right)} \\cos{\\left(\\operatorname{heta_{1}}{\\left(t \\right)} - \\operatorname{heta_{2}}{\\left(t \\right)} \\right)} \\left(\\frac{d}{d t} \\operatorname{heta_{2}}{\\left(t \\right)}\\right)^{2}}{l m \\cos^{2}{\\left(\\operatorname{heta_{1}}{\\left(t \\right)} - \\operatorname{heta_{2}}{\\left(t \\right)} \\right)} - 2 l m} - \\frac{2 l m \\sin{\\left(\\operatorname{heta_{1}}{\\left(t \\right)} - \\operatorname{heta_{2}}{\\left(t \\right)} \\right)} \\left(\\frac{d}{d t} \\operatorname{heta_{1}}{\\left(t \\right)}\\right)^{2}}{l m \\cos^{2}{\\left(\\operatorname{heta_{1}}{\\left(t \\right)} - \\operatorname{heta_{2}}{\\left(t \\right)} \\right)} - 2 l m}$"
      ],
      "text/plain": [
       "-2*a*b*w*cos(t*w)*cos(heta_1(t) - heta_2(t))*cos(heta_1(t))/(l*m*cos(heta_1(t) - heta_2(t))**2 - 2*l*m) + 2*a*b*w*cos(t*w)*cos(heta_2(t))/(l*m*cos(heta_1(t) - heta_2(t))**2 - 2*l*m) + 2*a*m*w**2*sin(t*w)*cos(heta_1(t) - heta_2(t))*cos(heta_1(t))/(l*m*cos(heta_1(t) - heta_2(t))**2 - 2*l*m) - 2*a*m*w**2*sin(t*w)*cos(heta_2(t))/(l*m*cos(heta_1(t) - heta_2(t))**2 - 2*l*m) - b*l*cos(heta_1(t) - heta_2(t))**2*Derivative(heta_2(t), t)/(l*m*cos(heta_1(t) - heta_2(t))**2 - 2*l*m) + 2*b*l*Derivative(heta_2(t), t)/(l*m*cos(heta_1(t) - heta_2(t))**2 - 2*l*m) - 2*g*m*sin(heta_1(t))*cos(heta_1(t) - heta_2(t))/(l*m*cos(heta_1(t) - heta_2(t))**2 - 2*l*m) + 2*g*m*sin(heta_2(t))/(l*m*cos(heta_1(t) - heta_2(t))**2 - 2*l*m) - l*m*sin(heta_1(t) - heta_2(t))*cos(heta_1(t) - heta_2(t))*Derivative(heta_2(t), t)**2/(l*m*cos(heta_1(t) - heta_2(t))**2 - 2*l*m) - 2*l*m*sin(heta_1(t) - heta_2(t))*Derivative(heta_1(t), t)**2/(l*m*cos(heta_1(t) - heta_2(t))**2 - 2*l*m)"
      ]
     },
     "execution_count": 12,
     "metadata": {},
     "output_type": "execute_result"
    }
   ],
   "source": [
    "sols[the2_dd]"
   ]
  },
  {
   "cell_type": "code",
   "execution_count": 13,
   "id": "34614455",
   "metadata": {},
   "outputs": [
    {
     "data": {
      "text/latex": [
       "$\\displaystyle - a l m \\left(\u0007lpha l w^{2} - 2 g + 2 l w^{2} + 2 w^{2}\\right) \\sin{\\left(t w \\right)}$"
      ],
      "text/plain": [
       "-a*l*m*(\u0007lpha*l*w**2 - 2*g + 2*l*w**2 + 2*w**2)*sin(t*w)"
      ]
     },
     "execution_count": 13,
     "metadata": {},
     "output_type": "execute_result"
    }
   ],
   "source": [
    "# Frequencies that results in resonance\n",
    "# the1 and the2 are small enough and the1= asin(wt) and the2= a(alpha)sin(wt)\n",
    "\n",
    "A= LE1.subs([(smp.sin(the1-the2), the1-the2),(smp.cos(the1-the2),1),(smp.cos(the1),1),(smp.cos(the2),1),\n",
    "             (smp.sin(the1),the1),(smp.sin(the2),the2),(the1, a*smp.sin(w*t)),(the2, a*alpha*smp.sin(w*t))\n",
    "            ,(b,0)]).doit().series(a,0,2).simplify().removeO()\n",
    "A"
   ]
  },
  {
   "cell_type": "code",
   "execution_count": 14,
   "id": "d8138697",
   "metadata": {},
   "outputs": [
    {
     "data": {
      "text/latex": [
       "$\\displaystyle - a l m \\left(- \u0007lpha g + \u0007lpha l w^{2} + l w^{2} + w^{2}\\right) \\sin{\\left(t w \\right)}$"
      ],
      "text/plain": [
       "-a*l*m*(-\u0007lpha*g + \u0007lpha*l*w**2 + l*w**2 + w**2)*sin(t*w)"
      ]
     },
     "execution_count": 14,
     "metadata": {},
     "output_type": "execute_result"
    }
   ],
   "source": [
    "B= LE2.subs([(smp.sin(the1-the2), the1-the2),(smp.cos(the1-the2),1),(smp.cos(the1),1),(smp.cos(the2),1),\n",
    "             (smp.sin(the1),the1),(smp.sin(the2),the2),(the1, a*smp.sin(w*t)),(the2, a*alpha*smp.sin(w*t))\n",
    "            ,(b,0)]).doit().series(a,0,2).simplify().removeO()\n",
    "B"
   ]
  },
  {
   "cell_type": "code",
   "execution_count": 15,
   "id": "d5fb78db",
   "metadata": {},
   "outputs": [
    {
     "data": {
      "text/plain": [
       "(-1, a, l, m, \u0007lpha*l*w**2 - 2*g + 2*l*w**2 + 2*w**2, sin(t*w))"
      ]
     },
     "execution_count": 15,
     "metadata": {},
     "output_type": "execute_result"
    }
   ],
   "source": [
    "A.args"
   ]
  },
  {
   "cell_type": "code",
   "execution_count": 16,
   "id": "79023c32",
   "metadata": {},
   "outputs": [
    {
     "data": {
      "text/plain": [
       "(-1, a, l, m, -\u0007lpha*g + \u0007lpha*l*w**2 + l*w**2 + w**2, sin(t*w))"
      ]
     },
     "execution_count": 16,
     "metadata": {},
     "output_type": "execute_result"
    }
   ],
   "source": [
    "B.args"
   ]
  },
  {
   "cell_type": "code",
   "execution_count": 17,
   "id": "c188d288",
   "metadata": {},
   "outputs": [
    {
     "data": {
      "text/latex": [
       "$\\displaystyle - \\sqrt{- \\frac{g \\left(-2 - \\frac{\\sqrt{2 l^{2} + 2 l + 1}}{l} - \\frac{1}{l}\\right)}{l + 1}}$"
      ],
      "text/plain": [
       "-sqrt(-g*(-2 - sqrt(2*l**2 + 2*l + 1)/l - 1/l)/(l + 1))"
      ]
     },
     "execution_count": 17,
     "metadata": {},
     "output_type": "execute_result"
    }
   ],
   "source": [
    "soln= smp.solve([A.args[4], B.args[4]],(w, alpha))\n",
    "soln[0][0]"
   ]
  },
  {
   "cell_type": "code",
   "execution_count": 18,
   "id": "96c773a0",
   "metadata": {},
   "outputs": [
    {
     "data": {
      "text/latex": [
       "$\\displaystyle - \\frac{\\sqrt{2 l^{2} + 2 l + 1}}{l} - \\frac{1}{l}$"
      ],
      "text/plain": [
       "-sqrt(2*l**2 + 2*l + 1)/l - 1/l"
      ]
     },
     "execution_count": 18,
     "metadata": {},
     "output_type": "execute_result"
    }
   ],
   "source": [
    "soln[0][1]"
   ]
  },
  {
   "cell_type": "code",
   "execution_count": 19,
   "id": "3aa0dfaf",
   "metadata": {},
   "outputs": [
    {
     "data": {
      "text/latex": [
       "$\\displaystyle \\sqrt{- \\frac{g \\left(-2 - \\frac{\\sqrt{2 l^{2} + 2 l + 1}}{l} - \\frac{1}{l}\\right)}{l + 1}}$"
      ],
      "text/plain": [
       "sqrt(-g*(-2 - sqrt(2*l**2 + 2*l + 1)/l - 1/l)/(l + 1))"
      ]
     },
     "execution_count": 19,
     "metadata": {},
     "output_type": "execute_result"
    }
   ],
   "source": [
    "soln[1][0]"
   ]
  },
  {
   "cell_type": "code",
   "execution_count": 20,
   "id": "6cc693de",
   "metadata": {},
   "outputs": [
    {
     "data": {
      "text/latex": [
       "$\\displaystyle - \\frac{\\sqrt{2 l^{2} + 2 l + 1}}{l} - \\frac{1}{l}$"
      ],
      "text/plain": [
       "-sqrt(2*l**2 + 2*l + 1)/l - 1/l"
      ]
     },
     "execution_count": 20,
     "metadata": {},
     "output_type": "execute_result"
    }
   ],
   "source": [
    "soln[1][1]"
   ]
  },
  {
   "cell_type": "code",
   "execution_count": 21,
   "id": "7107670a",
   "metadata": {},
   "outputs": [],
   "source": [
    "dz1dt_f = smp.lambdify((t, m, g, w, l, a, the1, the2, the1_d, the2_d), sols[the1_dd])\n",
    "dthe1dt_f = smp.lambdify(the1_d, the1_d)\n",
    "\n",
    "dz2dt_f = smp.lambdify((t, m, g, w, l, a, the1, the2, the1_d, the2_d), sols[the2_dd])\n",
    "dthe2dt_f = smp.lambdify(the2_d, the2_d)"
   ]
  },
  {
   "cell_type": "code",
   "execution_count": 22,
   "id": "0722b5ad",
   "metadata": {},
   "outputs": [],
   "source": [
    "def dSdt(S, t):\n",
    "    the1, z1, the2, z2 = S\n",
    "    return [\n",
    "        dthe1dt_f(z1),\n",
    "        dz1dt_f(t, m, g, w, l, a, the1, the2, z1, z2),\n",
    "        dthe2dt_f(z2),\n",
    "        dz2dt_f(t, m, g, w, l, a, the1, the2, z1, z2),\n",
    "    ]"
   ]
  },
  {
   "cell_type": "code",
   "execution_count": 23,
   "id": "44f085d8",
   "metadata": {},
   "outputs": [
    {
     "name": "stdout",
     "output_type": "stream",
     "text": [
      "Help on function odeint in module scipy.integrate._odepack_py:\n",
      "\n",
      "odeint(func, y0, t, args=(), Dfun=None, col_deriv=0, full_output=0, ml=None, mu=None, rtol=None, atol=None, tcrit=None, h0=0.0, hmax=0.0, hmin=0.0, ixpr=0, mxstep=0, mxhnil=0, mxordn=12, mxords=5, printmessg=0, tfirst=False)\n",
      "    Integrate a system of ordinary differential equations.\n",
      "    \n",
      "    .. note:: For new code, use `scipy.integrate.solve_ivp` to solve a\n",
      "              differential equation.\n",
      "    \n",
      "    Solve a system of ordinary differential equations using lsoda from the\n",
      "    FORTRAN library odepack.\n",
      "    \n",
      "    Solves the initial value problem for stiff or non-stiff systems\n",
      "    of first order ode-s::\n",
      "    \n",
      "        dy/dt = func(y, t, ...)  [or func(t, y, ...)]\n",
      "    \n",
      "    where y can be a vector.\n",
      "    \n",
      "    .. note:: By default, the required order of the first two arguments of\n",
      "              `func` are in the opposite order of the arguments in the system\n",
      "              definition function used by the `scipy.integrate.ode` class and\n",
      "              the function `scipy.integrate.solve_ivp`. To use a function with\n",
      "              the signature ``func(t, y, ...)``, the argument `tfirst` must be\n",
      "              set to ``True``.\n",
      "    \n",
      "    Parameters\n",
      "    ----------\n",
      "    func : callable(y, t, ...) or callable(t, y, ...)\n",
      "        Computes the derivative of y at t.\n",
      "        If the signature is ``callable(t, y, ...)``, then the argument\n",
      "        `tfirst` must be set ``True``.\n",
      "    y0 : array\n",
      "        Initial condition on y (can be a vector).\n",
      "    t : array\n",
      "        A sequence of time points for which to solve for y. The initial\n",
      "        value point should be the first element of this sequence.\n",
      "        This sequence must be monotonically increasing or monotonically\n",
      "        decreasing; repeated values are allowed.\n",
      "    args : tuple, optional\n",
      "        Extra arguments to pass to function.\n",
      "    Dfun : callable(y, t, ...) or callable(t, y, ...)\n",
      "        Gradient (Jacobian) of `func`.\n",
      "        If the signature is ``callable(t, y, ...)``, then the argument\n",
      "        `tfirst` must be set ``True``.\n",
      "    col_deriv : bool, optional\n",
      "        True if `Dfun` defines derivatives down columns (faster),\n",
      "        otherwise `Dfun` should define derivatives across rows.\n",
      "    full_output : bool, optional\n",
      "        True if to return a dictionary of optional outputs as the second output\n",
      "    printmessg : bool, optional\n",
      "        Whether to print the convergence message\n",
      "    tfirst: bool, optional\n",
      "        If True, the first two arguments of `func` (and `Dfun`, if given)\n",
      "        must ``t, y`` instead of the default ``y, t``.\n",
      "    \n",
      "        .. versionadded:: 1.1.0\n",
      "    \n",
      "    Returns\n",
      "    -------\n",
      "    y : array, shape (len(t), len(y0))\n",
      "        Array containing the value of y for each desired time in t,\n",
      "        with the initial value `y0` in the first row.\n",
      "    infodict : dict, only returned if full_output == True\n",
      "        Dictionary containing additional output information\n",
      "    \n",
      "        =======  ============================================================\n",
      "        key      meaning\n",
      "        =======  ============================================================\n",
      "        'hu'     vector of step sizes successfully used for each time step\n",
      "        'tcur'   vector with the value of t reached for each time step\n",
      "                 (will always be at least as large as the input times)\n",
      "        'tolsf'  vector of tolerance scale factors, greater than 1.0,\n",
      "                 computed when a request for too much accuracy was detected\n",
      "        'tsw'    value of t at the time of the last method switch\n",
      "                 (given for each time step)\n",
      "        'nst'    cumulative number of time steps\n",
      "        'nfe'    cumulative number of function evaluations for each time step\n",
      "        'nje'    cumulative number of jacobian evaluations for each time step\n",
      "        'nqu'    a vector of method orders for each successful step\n",
      "        'imxer'  index of the component of largest magnitude in the\n",
      "                 weighted local error vector (e / ewt) on an error return, -1\n",
      "                 otherwise\n",
      "        'lenrw'  the length of the double work array required\n",
      "        'leniw'  the length of integer work array required\n",
      "        'mused'  a vector of method indicators for each successful time step:\n",
      "                 1: adams (nonstiff), 2: bdf (stiff)\n",
      "        =======  ============================================================\n",
      "    \n",
      "    Other Parameters\n",
      "    ----------------\n",
      "    ml, mu : int, optional\n",
      "        If either of these are not None or non-negative, then the\n",
      "        Jacobian is assumed to be banded. These give the number of\n",
      "        lower and upper non-zero diagonals in this banded matrix.\n",
      "        For the banded case, `Dfun` should return a matrix whose\n",
      "        rows contain the non-zero bands (starting with the lowest diagonal).\n",
      "        Thus, the return matrix `jac` from `Dfun` should have shape\n",
      "        ``(ml + mu + 1, len(y0))`` when ``ml >=0`` or ``mu >=0``.\n",
      "        The data in `jac` must be stored such that ``jac[i - j + mu, j]``\n",
      "        holds the derivative of the `i`th equation with respect to the `j`th\n",
      "        state variable.  If `col_deriv` is True, the transpose of this\n",
      "        `jac` must be returned.\n",
      "    rtol, atol : float, optional\n",
      "        The input parameters `rtol` and `atol` determine the error\n",
      "        control performed by the solver.  The solver will control the\n",
      "        vector, e, of estimated local errors in y, according to an\n",
      "        inequality of the form ``max-norm of (e / ewt) <= 1``,\n",
      "        where ewt is a vector of positive error weights computed as\n",
      "        ``ewt = rtol * abs(y) + atol``.\n",
      "        rtol and atol can be either vectors the same length as y or scalars.\n",
      "        Defaults to 1.49012e-8.\n",
      "    tcrit : ndarray, optional\n",
      "        Vector of critical points (e.g., singularities) where integration\n",
      "        care should be taken.\n",
      "    h0 : float, (0: solver-determined), optional\n",
      "        The step size to be attempted on the first step.\n",
      "    hmax : float, (0: solver-determined), optional\n",
      "        The maximum absolute step size allowed.\n",
      "    hmin : float, (0: solver-determined), optional\n",
      "        The minimum absolute step size allowed.\n",
      "    ixpr : bool, optional\n",
      "        Whether to generate extra printing at method switches.\n",
      "    mxstep : int, (0: solver-determined), optional\n",
      "        Maximum number of (internally defined) steps allowed for each\n",
      "        integration point in t.\n",
      "    mxhnil : int, (0: solver-determined), optional\n",
      "        Maximum number of messages printed.\n",
      "    mxordn : int, (0: solver-determined), optional\n",
      "        Maximum order to be allowed for the non-stiff (Adams) method.\n",
      "    mxords : int, (0: solver-determined), optional\n",
      "        Maximum order to be allowed for the stiff (BDF) method.\n",
      "    \n",
      "    See Also\n",
      "    --------\n",
      "    solve_ivp : solve an initial value problem for a system of ODEs\n",
      "    ode : a more object-oriented integrator based on VODE\n",
      "    quad : for finding the area under a curve\n",
      "    \n",
      "    Examples\n",
      "    --------\n",
      "    The second order differential equation for the angle `theta` of a\n",
      "    pendulum acted on by gravity with friction can be written::\n",
      "    \n",
      "        theta''(t) + b*theta'(t) + c*sin(theta(t)) = 0\n",
      "    \n",
      "    where `b` and `c` are positive constants, and a prime (') denotes a\n",
      "    derivative. To solve this equation with `odeint`, we must first convert\n",
      "    it to a system of first order equations. By defining the angular\n",
      "    velocity ``omega(t) = theta'(t)``, we obtain the system::\n",
      "    \n",
      "        theta'(t) = omega(t)\n",
      "        omega'(t) = -b*omega(t) - c*sin(theta(t))\n",
      "    \n",
      "    Let `y` be the vector [`theta`, `omega`]. We implement this system\n",
      "    in Python as:\n",
      "    \n",
      "    >>> def pend(y, t, b, c):\n",
      "    ...     theta, omega = y\n",
      "    ...     dydt = [omega, -b*omega - c*np.sin(theta)]\n",
      "    ...     return dydt\n",
      "    ...\n",
      "    \n",
      "    We assume the constants are `b` = 0.25 and `c` = 5.0:\n",
      "    \n",
      "    >>> b = 0.25\n",
      "    >>> c = 5.0\n",
      "    \n",
      "    For initial conditions, we assume the pendulum is nearly vertical\n",
      "    with `theta(0)` = `pi` - 0.1, and is initially at rest, so\n",
      "    `omega(0)` = 0.  Then the vector of initial conditions is\n",
      "    \n",
      "    >>> y0 = [np.pi - 0.1, 0.0]\n",
      "    \n",
      "    We will generate a solution at 101 evenly spaced samples in the interval\n",
      "    0 <= `t` <= 10.  So our array of times is:\n",
      "    \n",
      "    >>> t = np.linspace(0, 10, 101)\n",
      "    \n",
      "    Call `odeint` to generate the solution. To pass the parameters\n",
      "    `b` and `c` to `pend`, we give them to `odeint` using the `args`\n",
      "    argument.\n",
      "    \n",
      "    >>> from scipy.integrate import odeint\n",
      "    >>> sol = odeint(pend, y0, t, args=(b, c))\n",
      "    \n",
      "    The solution is an array with shape (101, 2). The first column\n",
      "    is `theta(t)`, and the second is `omega(t)`. The following code\n",
      "    plots both components.\n",
      "    \n",
      "    >>> import matplotlib.pyplot as plt\n",
      "    >>> plt.plot(t, sol[:, 0], 'b', label='theta(t)')\n",
      "    >>> plt.plot(t, sol[:, 1], 'g', label='omega(t)')\n",
      "    >>> plt.legend(loc='best')\n",
      "    >>> plt.xlabel('t')\n",
      "    >>> plt.grid()\n",
      "    >>> plt.show()\n",
      "\n"
     ]
    }
   ],
   "source": [
    "help(odeint)"
   ]
  },
  {
   "cell_type": "code",
   "execution_count": 24,
   "id": "7c784065",
   "metadata": {},
   "outputs": [],
   "source": [
    "t = np.linspace(0, 20, 1000)\n",
    "t_span=(0,20)\n",
    "g = 9.81\n",
    "m=1\n",
    "l = 1\n",
    "a = 0.05\n",
    "w = np.sqrt(g/l)\n",
    "the1_0 = 0\n",
    "the2_0 = 0\n",
    "the1_d_0 = 0\n",
    "the2_d_0 = 0\n"
   ]
  },
  {
   "cell_type": "code",
   "execution_count": 25,
   "id": "e3ecd3bd",
   "metadata": {},
   "outputs": [
    {
     "name": "stdout",
     "output_type": "stream",
     "text": [
      "Help on function solve_ivp in module scipy.integrate._ivp.ivp:\n",
      "\n",
      "solve_ivp(fun, t_span, y0, method='RK45', t_eval=None, dense_output=False, events=None, vectorized=False, args=None, **options)\n",
      "    Solve an initial value problem for a system of ODEs.\n",
      "    \n",
      "    This function numerically integrates a system of ordinary differential\n",
      "    equations given an initial value::\n",
      "    \n",
      "        dy / dt = f(t, y)\n",
      "        y(t0) = y0\n",
      "    \n",
      "    Here t is a 1-D independent variable (time), y(t) is an\n",
      "    N-D vector-valued function (state), and an N-D\n",
      "    vector-valued function f(t, y) determines the differential equations.\n",
      "    The goal is to find y(t) approximately satisfying the differential\n",
      "    equations, given an initial value y(t0)=y0.\n",
      "    \n",
      "    Some of the solvers support integration in the complex domain, but note\n",
      "    that for stiff ODE solvers, the right-hand side must be\n",
      "    complex-differentiable (satisfy Cauchy-Riemann equations [11]_).\n",
      "    To solve a problem in the complex domain, pass y0 with a complex data type.\n",
      "    Another option always available is to rewrite your problem for real and\n",
      "    imaginary parts separately.\n",
      "    \n",
      "    Parameters\n",
      "    ----------\n",
      "    fun : callable\n",
      "        Right-hand side of the system. The calling signature is ``fun(t, y)``.\n",
      "        Here `t` is a scalar, and there are two options for the ndarray `y`:\n",
      "        It can either have shape (n,); then `fun` must return array_like with\n",
      "        shape (n,). Alternatively, it can have shape (n, k); then `fun`\n",
      "        must return an array_like with shape (n, k), i.e., each column\n",
      "        corresponds to a single column in `y`. The choice between the two\n",
      "        options is determined by `vectorized` argument (see below). The\n",
      "        vectorized implementation allows a faster approximation of the Jacobian\n",
      "        by finite differences (required for stiff solvers).\n",
      "    t_span : 2-tuple of floats\n",
      "        Interval of integration (t0, tf). The solver starts with t=t0 and\n",
      "        integrates until it reaches t=tf.\n",
      "    y0 : array_like, shape (n,)\n",
      "        Initial state. For problems in the complex domain, pass `y0` with a\n",
      "        complex data type (even if the initial value is purely real).\n",
      "    method : string or `OdeSolver`, optional\n",
      "        Integration method to use:\n",
      "    \n",
      "            * 'RK45' (default): Explicit Runge-Kutta method of order 5(4) [1]_.\n",
      "              The error is controlled assuming accuracy of the fourth-order\n",
      "              method, but steps are taken using the fifth-order accurate\n",
      "              formula (local extrapolation is done). A quartic interpolation\n",
      "              polynomial is used for the dense output [2]_. Can be applied in\n",
      "              the complex domain.\n",
      "            * 'RK23': Explicit Runge-Kutta method of order 3(2) [3]_. The error\n",
      "              is controlled assuming accuracy of the second-order method, but\n",
      "              steps are taken using the third-order accurate formula (local\n",
      "              extrapolation is done). A cubic Hermite polynomial is used for the\n",
      "              dense output. Can be applied in the complex domain.\n",
      "            * 'DOP853': Explicit Runge-Kutta method of order 8 [13]_.\n",
      "              Python implementation of the \"DOP853\" algorithm originally\n",
      "              written in Fortran [14]_. A 7-th order interpolation polynomial\n",
      "              accurate to 7-th order is used for the dense output.\n",
      "              Can be applied in the complex domain.\n",
      "            * 'Radau': Implicit Runge-Kutta method of the Radau IIA family of\n",
      "              order 5 [4]_. The error is controlled with a third-order accurate\n",
      "              embedded formula. A cubic polynomial which satisfies the\n",
      "              collocation conditions is used for the dense output.\n",
      "            * 'BDF': Implicit multi-step variable-order (1 to 5) method based\n",
      "              on a backward differentiation formula for the derivative\n",
      "              approximation [5]_. The implementation follows the one described\n",
      "              in [6]_. A quasi-constant step scheme is used and accuracy is\n",
      "              enhanced using the NDF modification. Can be applied in the\n",
      "              complex domain.\n",
      "            * 'LSODA': Adams/BDF method with automatic stiffness detection and\n",
      "              switching [7]_, [8]_. This is a wrapper of the Fortran solver\n",
      "              from ODEPACK.\n",
      "    \n",
      "        Explicit Runge-Kutta methods ('RK23', 'RK45', 'DOP853') should be used\n",
      "        for non-stiff problems and implicit methods ('Radau', 'BDF') for\n",
      "        stiff problems [9]_. Among Runge-Kutta methods, 'DOP853' is recommended\n",
      "        for solving with high precision (low values of `rtol` and `atol`).\n",
      "    \n",
      "        If not sure, first try to run 'RK45'. If it makes unusually many\n",
      "        iterations, diverges, or fails, your problem is likely to be stiff and\n",
      "        you should use 'Radau' or 'BDF'. 'LSODA' can also be a good universal\n",
      "        choice, but it might be somewhat less convenient to work with as it\n",
      "        wraps old Fortran code.\n",
      "    \n",
      "        You can also pass an arbitrary class derived from `OdeSolver` which\n",
      "        implements the solver.\n",
      "    t_eval : array_like or None, optional\n",
      "        Times at which to store the computed solution, must be sorted and lie\n",
      "        within `t_span`. If None (default), use points selected by the solver.\n",
      "    dense_output : bool, optional\n",
      "        Whether to compute a continuous solution. Default is False.\n",
      "    events : callable, or list of callables, optional\n",
      "        Events to track. If None (default), no events will be tracked.\n",
      "        Each event occurs at the zeros of a continuous function of time and\n",
      "        state. Each function must have the signature ``event(t, y)`` and return\n",
      "        a float. The solver will find an accurate value of `t` at which\n",
      "        ``event(t, y(t)) = 0`` using a root-finding algorithm. By default, all\n",
      "        zeros will be found. The solver looks for a sign change over each step,\n",
      "        so if multiple zero crossings occur within one step, events may be\n",
      "        missed. Additionally each `event` function might have the following\n",
      "        attributes:\n",
      "    \n",
      "            terminal: bool, optional\n",
      "                Whether to terminate integration if this event occurs.\n",
      "                Implicitly False if not assigned.\n",
      "            direction: float, optional\n",
      "                Direction of a zero crossing. If `direction` is positive,\n",
      "                `event` will only trigger when going from negative to positive,\n",
      "                and vice versa if `direction` is negative. If 0, then either\n",
      "                direction will trigger event. Implicitly 0 if not assigned.\n",
      "    \n",
      "        You can assign attributes like ``event.terminal = True`` to any\n",
      "        function in Python.\n",
      "    vectorized : bool, optional\n",
      "        Whether `fun` is implemented in a vectorized fashion. Default is False.\n",
      "    args : tuple, optional\n",
      "        Additional arguments to pass to the user-defined functions.  If given,\n",
      "        the additional arguments are passed to all user-defined functions.\n",
      "        So if, for example, `fun` has the signature ``fun(t, y, a, b, c)``,\n",
      "        then `jac` (if given) and any event functions must have the same\n",
      "        signature, and `args` must be a tuple of length 3.\n",
      "    options\n",
      "        Options passed to a chosen solver. All options available for already\n",
      "        implemented solvers are listed below.\n",
      "    first_step : float or None, optional\n",
      "        Initial step size. Default is `None` which means that the algorithm\n",
      "        should choose.\n",
      "    max_step : float, optional\n",
      "        Maximum allowed step size. Default is np.inf, i.e., the step size is not\n",
      "        bounded and determined solely by the solver.\n",
      "    rtol, atol : float or array_like, optional\n",
      "        Relative and absolute tolerances. The solver keeps the local error\n",
      "        estimates less than ``atol + rtol * abs(y)``. Here `rtol` controls a\n",
      "        relative accuracy (number of correct digits), while `atol` controls\n",
      "        absolute accuracy (number of correct decimal places). To achieve the\n",
      "        desired `rtol`, set `atol` to be lower than the lowest value that can\n",
      "        be expected from ``rtol * abs(y)`` so that `rtol` dominates the\n",
      "        allowable error. If `atol` is larger than ``rtol * abs(y)`` the\n",
      "        number of correct digits is not guaranteed. Conversely, to achieve the\n",
      "        desired `atol` set `rtol` such that ``rtol * abs(y)`` is always lower\n",
      "        than `atol`. If components of y have different scales, it might be\n",
      "        beneficial to set different `atol` values for different components by\n",
      "        passing array_like with shape (n,) for `atol`. Default values are\n",
      "        1e-3 for `rtol` and 1e-6 for `atol`.\n",
      "    jac : array_like, sparse_matrix, callable or None, optional\n",
      "        Jacobian matrix of the right-hand side of the system with respect\n",
      "        to y, required by the 'Radau', 'BDF' and 'LSODA' method. The\n",
      "        Jacobian matrix has shape (n, n) and its element (i, j) is equal to\n",
      "        ``d f_i / d y_j``.  There are three ways to define the Jacobian:\n",
      "    \n",
      "            * If array_like or sparse_matrix, the Jacobian is assumed to\n",
      "              be constant. Not supported by 'LSODA'.\n",
      "            * If callable, the Jacobian is assumed to depend on both\n",
      "              t and y; it will be called as ``jac(t, y)``, as necessary.\n",
      "              For 'Radau' and 'BDF' methods, the return value might be a\n",
      "              sparse matrix.\n",
      "            * If None (default), the Jacobian will be approximated by\n",
      "              finite differences.\n",
      "    \n",
      "        It is generally recommended to provide the Jacobian rather than\n",
      "        relying on a finite-difference approximation.\n",
      "    jac_sparsity : array_like, sparse matrix or None, optional\n",
      "        Defines a sparsity structure of the Jacobian matrix for a finite-\n",
      "        difference approximation. Its shape must be (n, n). This argument\n",
      "        is ignored if `jac` is not `None`. If the Jacobian has only few\n",
      "        non-zero elements in *each* row, providing the sparsity structure\n",
      "        will greatly speed up the computations [10]_. A zero entry means that\n",
      "        a corresponding element in the Jacobian is always zero. If None\n",
      "        (default), the Jacobian is assumed to be dense.\n",
      "        Not supported by 'LSODA', see `lband` and `uband` instead.\n",
      "    lband, uband : int or None, optional\n",
      "        Parameters defining the bandwidth of the Jacobian for the 'LSODA'\n",
      "        method, i.e., ``jac[i, j] != 0 only for i - lband <= j <= i + uband``.\n",
      "        Default is None. Setting these requires your jac routine to return the\n",
      "        Jacobian in the packed format: the returned array must have ``n``\n",
      "        columns and ``uband + lband + 1`` rows in which Jacobian diagonals are\n",
      "        written. Specifically ``jac_packed[uband + i - j , j] = jac[i, j]``.\n",
      "        The same format is used in `scipy.linalg.solve_banded` (check for an\n",
      "        illustration).  These parameters can be also used with ``jac=None`` to\n",
      "        reduce the number of Jacobian elements estimated by finite differences.\n",
      "    min_step : float, optional\n",
      "        The minimum allowed step size for 'LSODA' method.\n",
      "        By default `min_step` is zero.\n",
      "    \n",
      "    Returns\n",
      "    -------\n",
      "    Bunch object with the following fields defined:\n",
      "    t : ndarray, shape (n_points,)\n",
      "        Time points.\n",
      "    y : ndarray, shape (n, n_points)\n",
      "        Values of the solution at `t`.\n",
      "    sol : `OdeSolution` or None\n",
      "        Found solution as `OdeSolution` instance; None if `dense_output` was\n",
      "        set to False.\n",
      "    t_events : list of ndarray or None\n",
      "        Contains for each event type a list of arrays at which an event of\n",
      "        that type event was detected. None if `events` was None.\n",
      "    y_events : list of ndarray or None\n",
      "        For each value of `t_events`, the corresponding value of the solution.\n",
      "        None if `events` was None.\n",
      "    nfev : int\n",
      "        Number of evaluations of the right-hand side.\n",
      "    njev : int\n",
      "        Number of evaluations of the Jacobian.\n",
      "    nlu : int\n",
      "        Number of LU decompositions.\n",
      "    status : int\n",
      "        Reason for algorithm termination:\n",
      "    \n",
      "            * -1: Integration step failed.\n",
      "            *  0: The solver successfully reached the end of `tspan`.\n",
      "            *  1: A termination event occurred.\n",
      "    \n",
      "    message : string\n",
      "        Human-readable description of the termination reason.\n",
      "    success : bool\n",
      "        True if the solver reached the interval end or a termination event\n",
      "        occurred (``status >= 0``).\n",
      "    \n",
      "    References\n",
      "    ----------\n",
      "    .. [1] J. R. Dormand, P. J. Prince, \"A family of embedded Runge-Kutta\n",
      "           formulae\", Journal of Computational and Applied Mathematics, Vol. 6,\n",
      "           No. 1, pp. 19-26, 1980.\n",
      "    .. [2] L. W. Shampine, \"Some Practical Runge-Kutta Formulas\", Mathematics\n",
      "           of Computation,, Vol. 46, No. 173, pp. 135-150, 1986.\n",
      "    .. [3] P. Bogacki, L.F. Shampine, \"A 3(2) Pair of Runge-Kutta Formulas\",\n",
      "           Appl. Math. Lett. Vol. 2, No. 4. pp. 321-325, 1989.\n",
      "    .. [4] E. Hairer, G. Wanner, \"Solving Ordinary Differential Equations II:\n",
      "           Stiff and Differential-Algebraic Problems\", Sec. IV.8.\n",
      "    .. [5] `Backward Differentiation Formula\n",
      "            <https://en.wikipedia.org/wiki/Backward_differentiation_formula>`_\n",
      "            on Wikipedia.\n",
      "    .. [6] L. F. Shampine, M. W. Reichelt, \"THE MATLAB ODE SUITE\", SIAM J. SCI.\n",
      "           COMPUTE., Vol. 18, No. 1, pp. 1-22, January 1997.\n",
      "    .. [7] A. C. Hindmarsh, \"ODEPACK, A Systematized Collection of ODE\n",
      "           Solvers,\" IMACS Transactions on Scientific Computation, Vol 1.,\n",
      "           pp. 55-64, 1983.\n",
      "    .. [8] L. Petzold, \"Automatic selection of methods for solving stiff and\n",
      "           nonstiff systems of ordinary differential equations\", SIAM Journal\n",
      "           on Scientific and Statistical Computing, Vol. 4, No. 1, pp. 136-148,\n",
      "           1983.\n",
      "    .. [9] `Stiff equation <https://en.wikipedia.org/wiki/Stiff_equation>`_ on\n",
      "           Wikipedia.\n",
      "    .. [10] A. Curtis, M. J. D. Powell, and J. Reid, \"On the estimation of\n",
      "            sparse Jacobian matrices\", Journal of the Institute of Mathematics\n",
      "            and its Applications, 13, pp. 117-120, 1974.\n",
      "    .. [11] `Cauchy-Riemann equations\n",
      "             <https://en.wikipedia.org/wiki/Cauchy-Riemann_equations>`_ on\n",
      "             Wikipedia.\n",
      "    .. [12] `Lotka-Volterra equations\n",
      "            <https://en.wikipedia.org/wiki/Lotka%E2%80%93Volterra_equations>`_\n",
      "            on Wikipedia.\n",
      "    .. [13] E. Hairer, S. P. Norsett G. Wanner, \"Solving Ordinary Differential\n",
      "            Equations I: Nonstiff Problems\", Sec. II.\n",
      "    .. [14] `Page with original Fortran code of DOP853\n",
      "            <http://www.unige.ch/~hairer/software.html>`_.\n",
      "    \n",
      "    Examples\n",
      "    --------\n",
      "    Basic exponential decay showing automatically chosen time points.\n",
      "    \n",
      "    >>> from scipy.integrate import solve_ivp\n",
      "    >>> def exponential_decay(t, y): return -0.5 * y\n",
      "    >>> sol = solve_ivp(exponential_decay, [0, 10], [2, 4, 8])\n",
      "    >>> print(sol.t)\n",
      "    [ 0.          0.11487653  1.26364188  3.06061781  4.81611105  6.57445806\n",
      "      8.33328988 10.        ]\n",
      "    >>> print(sol.y)\n",
      "    [[2.         1.88836035 1.06327177 0.43319312 0.18017253 0.07483045\n",
      "      0.03107158 0.01350781]\n",
      "     [4.         3.7767207  2.12654355 0.86638624 0.36034507 0.14966091\n",
      "      0.06214316 0.02701561]\n",
      "     [8.         7.5534414  4.25308709 1.73277247 0.72069014 0.29932181\n",
      "      0.12428631 0.05403123]]\n",
      "    \n",
      "    Specifying points where the solution is desired.\n",
      "    \n",
      "    >>> sol = solve_ivp(exponential_decay, [0, 10], [2, 4, 8],\n",
      "    ...                 t_eval=[0, 1, 2, 4, 10])\n",
      "    >>> print(sol.t)\n",
      "    [ 0  1  2  4 10]\n",
      "    >>> print(sol.y)\n",
      "    [[2.         1.21305369 0.73534021 0.27066736 0.01350938]\n",
      "     [4.         2.42610739 1.47068043 0.54133472 0.02701876]\n",
      "     [8.         4.85221478 2.94136085 1.08266944 0.05403753]]\n",
      "    \n",
      "    Cannon fired upward with terminal event upon impact. The ``terminal`` and\n",
      "    ``direction`` fields of an event are applied by monkey patching a function.\n",
      "    Here ``y[0]`` is position and ``y[1]`` is velocity. The projectile starts\n",
      "    at position 0 with velocity +10. Note that the integration never reaches\n",
      "    t=100 because the event is terminal.\n",
      "    \n",
      "    >>> def upward_cannon(t, y): return [y[1], -0.5]\n",
      "    >>> def hit_ground(t, y): return y[0]\n",
      "    >>> hit_ground.terminal = True\n",
      "    >>> hit_ground.direction = -1\n",
      "    >>> sol = solve_ivp(upward_cannon, [0, 100], [0, 10], events=hit_ground)\n",
      "    >>> print(sol.t_events)\n",
      "    [array([40.])]\n",
      "    >>> print(sol.t)\n",
      "    [0.00000000e+00 9.99900010e-05 1.09989001e-03 1.10988901e-02\n",
      "     1.11088891e-01 1.11098890e+00 1.11099890e+01 4.00000000e+01]\n",
      "    \n",
      "    Use `dense_output` and `events` to find position, which is 100, at the apex\n",
      "    of the cannonball's trajectory. Apex is not defined as terminal, so both\n",
      "    apex and hit_ground are found. There is no information at t=20, so the sol\n",
      "    attribute is used to evaluate the solution. The sol attribute is returned\n",
      "    by setting ``dense_output=True``. Alternatively, the `y_events` attribute\n",
      "    can be used to access the solution at the time of the event.\n",
      "    \n",
      "    >>> def apex(t, y): return y[1]\n",
      "    >>> sol = solve_ivp(upward_cannon, [0, 100], [0, 10],\n",
      "    ...                 events=(hit_ground, apex), dense_output=True)\n",
      "    >>> print(sol.t_events)\n",
      "    [array([40.]), array([20.])]\n",
      "    >>> print(sol.t)\n",
      "    [0.00000000e+00 9.99900010e-05 1.09989001e-03 1.10988901e-02\n",
      "     1.11088891e-01 1.11098890e+00 1.11099890e+01 4.00000000e+01]\n",
      "    >>> print(sol.sol(sol.t_events[1][0]))\n",
      "    [100.   0.]\n",
      "    >>> print(sol.y_events)\n",
      "    [array([[-5.68434189e-14, -1.00000000e+01]]), array([[1.00000000e+02, 1.77635684e-15]])]\n",
      "    \n",
      "    As an example of a system with additional parameters, we'll implement\n",
      "    the Lotka-Volterra equations [12]_.\n",
      "    \n",
      "    >>> def lotkavolterra(t, z, a, b, c, d):\n",
      "    ...     x, y = z\n",
      "    ...     return [a*x - b*x*y, -c*y + d*x*y]\n",
      "    ...\n",
      "    \n",
      "    We pass in the parameter values a=1.5, b=1, c=3 and d=1 with the `args`\n",
      "    argument.\n",
      "    \n",
      "    >>> sol = solve_ivp(lotkavolterra, [0, 15], [10, 5], args=(1.5, 1, 3, 1),\n",
      "    ...                 dense_output=True)\n",
      "    \n",
      "    Compute a dense solution and plot it.\n",
      "    \n",
      "    >>> t = np.linspace(0, 15, 300)\n",
      "    >>> z = sol.sol(t)\n",
      "    >>> import matplotlib.pyplot as plt\n",
      "    >>> plt.plot(t, z.T)\n",
      "    >>> plt.xlabel('t')\n",
      "    >>> plt.legend(['x', 'y'], shadow=True)\n",
      "    >>> plt.title('Lotka-Volterra System')\n",
      "    >>> plt.show()\n",
      "\n"
     ]
    }
   ],
   "source": [
    "help(solve_ivp)"
   ]
  },
  {
   "cell_type": "code",
   "execution_count": 26,
   "id": "5359d41c",
   "metadata": {},
   "outputs": [
    {
     "ename": "TypeError",
     "evalue": "can't convert expression to float",
     "output_type": "error",
     "traceback": [
      "\u001b[0;31m---------------------------------------------------------------------------\u001b[0m",
      "\u001b[0;31mTypeError\u001b[0m                                 Traceback (most recent call last)",
      "\u001b[0;32m/tmp/ipykernel_13456/1564817852.py\u001b[0m in \u001b[0;36m<module>\u001b[0;34m\u001b[0m\n\u001b[1;32m      1\u001b[0m \u001b[0;31m#ans = solve_ivp(dSdt, t_span, y0=[0,0,0,0], method='RK45',t_eval=None, dense_output=False, events=None,\u001b[0m\u001b[0;34m\u001b[0m\u001b[0;34m\u001b[0m\u001b[0m\n\u001b[1;32m      2\u001b[0m \u001b[0;31m#                vectorized=False, args=None)\u001b[0m\u001b[0;34m\u001b[0m\u001b[0;34m\u001b[0m\u001b[0m\n\u001b[0;32m----> 3\u001b[0;31m \u001b[0mans\u001b[0m \u001b[0;34m=\u001b[0m \u001b[0modeint\u001b[0m\u001b[0;34m(\u001b[0m\u001b[0mdSdt\u001b[0m\u001b[0;34m,\u001b[0m \u001b[0my0\u001b[0m\u001b[0;34m=\u001b[0m\u001b[0;34m[\u001b[0m\u001b[0;36m0\u001b[0m\u001b[0;34m,\u001b[0m \u001b[0;36m0\u001b[0m\u001b[0;34m,\u001b[0m \u001b[0;36m0\u001b[0m\u001b[0;34m,\u001b[0m \u001b[0;36m0\u001b[0m\u001b[0;34m]\u001b[0m\u001b[0;34m,\u001b[0m \u001b[0mt\u001b[0m\u001b[0;34m=\u001b[0m\u001b[0mt\u001b[0m\u001b[0;34m)\u001b[0m\u001b[0;34m\u001b[0m\u001b[0;34m\u001b[0m\u001b[0m\n\u001b[0m",
      "\u001b[0;32m/usr/lib/python3/dist-packages/scipy/integrate/_odepack_py.py\u001b[0m in \u001b[0;36modeint\u001b[0;34m(func, y0, t, args, Dfun, col_deriv, full_output, ml, mu, rtol, atol, tcrit, h0, hmax, hmin, ixpr, mxstep, mxhnil, mxordn, mxords, printmessg, tfirst)\u001b[0m\n\u001b[1;32m    239\u001b[0m     \u001b[0mt\u001b[0m \u001b[0;34m=\u001b[0m \u001b[0mcopy\u001b[0m\u001b[0;34m(\u001b[0m\u001b[0mt\u001b[0m\u001b[0;34m)\u001b[0m\u001b[0;34m\u001b[0m\u001b[0;34m\u001b[0m\u001b[0m\n\u001b[1;32m    240\u001b[0m     \u001b[0my0\u001b[0m \u001b[0;34m=\u001b[0m \u001b[0mcopy\u001b[0m\u001b[0;34m(\u001b[0m\u001b[0my0\u001b[0m\u001b[0;34m)\u001b[0m\u001b[0;34m\u001b[0m\u001b[0;34m\u001b[0m\u001b[0m\n\u001b[0;32m--> 241\u001b[0;31m     output = _odepack.odeint(func, y0, t, args, Dfun, col_deriv, ml, mu,\n\u001b[0m\u001b[1;32m    242\u001b[0m                              \u001b[0mfull_output\u001b[0m\u001b[0;34m,\u001b[0m \u001b[0mrtol\u001b[0m\u001b[0;34m,\u001b[0m \u001b[0matol\u001b[0m\u001b[0;34m,\u001b[0m \u001b[0mtcrit\u001b[0m\u001b[0;34m,\u001b[0m \u001b[0mh0\u001b[0m\u001b[0;34m,\u001b[0m \u001b[0mhmax\u001b[0m\u001b[0;34m,\u001b[0m \u001b[0mhmin\u001b[0m\u001b[0;34m,\u001b[0m\u001b[0;34m\u001b[0m\u001b[0;34m\u001b[0m\u001b[0m\n\u001b[1;32m    243\u001b[0m                              \u001b[0mixpr\u001b[0m\u001b[0;34m,\u001b[0m \u001b[0mmxstep\u001b[0m\u001b[0;34m,\u001b[0m \u001b[0mmxhnil\u001b[0m\u001b[0;34m,\u001b[0m \u001b[0mmxordn\u001b[0m\u001b[0;34m,\u001b[0m \u001b[0mmxords\u001b[0m\u001b[0;34m,\u001b[0m\u001b[0;34m\u001b[0m\u001b[0;34m\u001b[0m\u001b[0m\n",
      "\u001b[0;32m/usr/lib/python3/dist-packages/sympy/core/expr.py\u001b[0m in \u001b[0;36m__float__\u001b[0;34m(self)\u001b[0m\n\u001b[1;32m    357\u001b[0m         \u001b[0;32mif\u001b[0m \u001b[0mresult\u001b[0m\u001b[0;34m.\u001b[0m\u001b[0mis_number\u001b[0m \u001b[0;32mand\u001b[0m \u001b[0mresult\u001b[0m\u001b[0;34m.\u001b[0m\u001b[0mas_real_imag\u001b[0m\u001b[0;34m(\u001b[0m\u001b[0;34m)\u001b[0m\u001b[0;34m[\u001b[0m\u001b[0;36m1\u001b[0m\u001b[0;34m]\u001b[0m\u001b[0;34m:\u001b[0m\u001b[0;34m\u001b[0m\u001b[0;34m\u001b[0m\u001b[0m\n\u001b[1;32m    358\u001b[0m             \u001b[0;32mraise\u001b[0m \u001b[0mTypeError\u001b[0m\u001b[0;34m(\u001b[0m\u001b[0;34m\"can't convert complex to float\"\u001b[0m\u001b[0;34m)\u001b[0m\u001b[0;34m\u001b[0m\u001b[0;34m\u001b[0m\u001b[0m\n\u001b[0;32m--> 359\u001b[0;31m         \u001b[0;32mraise\u001b[0m \u001b[0mTypeError\u001b[0m\u001b[0;34m(\u001b[0m\u001b[0;34m\"can't convert expression to float\"\u001b[0m\u001b[0;34m)\u001b[0m\u001b[0;34m\u001b[0m\u001b[0;34m\u001b[0m\u001b[0m\n\u001b[0m\u001b[1;32m    360\u001b[0m \u001b[0;34m\u001b[0m\u001b[0m\n\u001b[1;32m    361\u001b[0m     \u001b[0;32mdef\u001b[0m \u001b[0m__complex__\u001b[0m\u001b[0;34m(\u001b[0m\u001b[0mself\u001b[0m\u001b[0;34m)\u001b[0m\u001b[0;34m:\u001b[0m\u001b[0;34m\u001b[0m\u001b[0;34m\u001b[0m\u001b[0m\n",
      "\u001b[0;31mTypeError\u001b[0m: can't convert expression to float"
     ]
    }
   ],
   "source": [
    "#ans = solve_ivp(dSdt, t_span, y0=[0,0,0,0], method='RK45',t_eval=None, dense_output=False, events=None,\n",
    "#                vectorized=False, args=None)\n",
    "ans = odeint(dSdt, y0=[0, 0, 0, 0], t=t)"
   ]
  },
  {
   "cell_type": "code",
   "execution_count": null,
   "id": "0c13640b",
   "metadata": {},
   "outputs": [],
   "source": []
  }
 ],
 "metadata": {
  "kernelspec": {
   "display_name": "Python 3 (ipykernel)",
   "language": "python",
   "name": "python3"
  },
  "language_info": {
   "codemirror_mode": {
    "name": "ipython",
    "version": 3
   },
   "file_extension": ".py",
   "mimetype": "text/x-python",
   "name": "python",
   "nbconvert_exporter": "python",
   "pygments_lexer": "ipython3",
   "version": "3.10.6"
  }
 },
 "nbformat": 4,
 "nbformat_minor": 5
}
